{
 "cells": [
  {
   "cell_type": "markdown",
   "id": "8abd0a6f",
   "metadata": {},
   "source": [
    "# Imports"
   ]
  },
  {
   "cell_type": "code",
   "execution_count": 7,
   "id": "386fdca6",
   "metadata": {},
   "outputs": [],
   "source": [
    "import numpy as np\n",
    "import pandas as pd\n",
    "import string\n",
    "import collections\n",
    "import nagisa"
   ]
  },
  {
   "cell_type": "markdown",
   "id": "0b0b68eb",
   "metadata": {},
   "source": [
    "# Read in data"
   ]
  },
  {
   "cell_type": "code",
   "execution_count": 2,
   "id": "fdadb911",
   "metadata": {},
   "outputs": [
    {
     "data": {
      "text/html": [
       "<div>\n",
       "<style scoped>\n",
       "    .dataframe tbody tr th:only-of-type {\n",
       "        vertical-align: middle;\n",
       "    }\n",
       "\n",
       "    .dataframe tbody tr th {\n",
       "        vertical-align: top;\n",
       "    }\n",
       "\n",
       "    .dataframe thead th {\n",
       "        text-align: right;\n",
       "    }\n",
       "</style>\n",
       "<table border=\"1\" class=\"dataframe\">\n",
       "  <thead>\n",
       "    <tr style=\"text-align: right;\">\n",
       "      <th></th>\n",
       "      <th>article</th>\n",
       "      <th>views</th>\n",
       "      <th>text</th>\n",
       "    </tr>\n",
       "  </thead>\n",
       "  <tbody>\n",
       "    <tr>\n",
       "      <th>0</th>\n",
       "      <td>メインページ</td>\n",
       "      <td>362562853</td>\n",
       "      <td>ようこそ\\nウィキペディア - ウィキペディア日本語版 - 百科事典目次\\n検索資料・ポータ...</td>\n",
       "    </tr>\n",
       "    <tr>\n",
       "      <th>1</th>\n",
       "      <td>星野源</td>\n",
       "      <td>10190763</td>\n",
       "      <td>星野 源（ほしの みなもと、1981年1月28日 - ）は、日本の音楽家、俳優、文筆家。埼玉...</td>\n",
       "    </tr>\n",
       "    <tr>\n",
       "      <th>2</th>\n",
       "      <td>真田信繁</td>\n",
       "      <td>9602104</td>\n",
       "      <td>真田 信繁（さなだ のぶしげ）は、安土桃山時代から江戸時代初期にかけての武将、大名。真田昌幸...</td>\n",
       "    </tr>\n",
       "    <tr>\n",
       "      <th>3</th>\n",
       "      <td>高橋一生</td>\n",
       "      <td>8571666</td>\n",
       "      <td>高橋 一生（たかはし いっせい、英字表記：Issey Takahashi、1980年12月9...</td>\n",
       "    </tr>\n",
       "    <tr>\n",
       "      <th>4</th>\n",
       "      <td>君の名は。</td>\n",
       "      <td>7788879</td>\n",
       "      <td>『君の名は。』（きみのなは、英: Your Name.）は、2016年に公開された新海誠監督...</td>\n",
       "    </tr>\n",
       "  </tbody>\n",
       "</table>\n",
       "</div>"
      ],
      "text/plain": [
       "  article      views                                               text\n",
       "0  メインページ  362562853  ようこそ\\nウィキペディア - ウィキペディア日本語版 - 百科事典目次\\n検索資料・ポータ...\n",
       "1     星野源   10190763  星野 源（ほしの みなもと、1981年1月28日 - ）は、日本の音楽家、俳優、文筆家。埼玉...\n",
       "2    真田信繁    9602104  真田 信繁（さなだ のぶしげ）は、安土桃山時代から江戸時代初期にかけての武将、大名。真田昌幸...\n",
       "3    高橋一生    8571666  高橋 一生（たかはし いっせい、英字表記：Issey Takahashi、1980年12月9...\n",
       "4   君の名は。    7788879  『君の名は。』（きみのなは、英: Your Name.）は、2016年に公開された新海誠監督..."
      ]
     },
     "execution_count": 2,
     "metadata": {},
     "output_type": "execute_result"
    }
   ],
   "source": [
    "wiki_df = pd.read_pickle('wiki') \n",
    "wiki_df.head()"
   ]
  },
  {
   "cell_type": "code",
   "execution_count": 5,
   "id": "7567fe11",
   "metadata": {},
   "outputs": [],
   "source": [
    "# Create a list of stop words\n",
    "stop = ['あそこ','あっ','あの','あのかた','あの人','あり','あります','ある','あれ','い','いう','います','いる','う','うち','え','お','および','おり','おります','か','かつて','から','が','き','ここ','こちら','こと','この','これ','これら','さ','さらに','し','しかし','する','ず','せ','せる','そこ','そして','その','その他','その後','それ','それぞれ','それで','た','ただし','たち','ため','たり','だ','だっ','だれ','つ','て','で','でき','できる','です','では','でも','と','という','といった','とき','ところ','として','とともに','とも','と共に','どこ','どの','な','ない','なお','なかっ','ながら','なく','なっ','など','なに','なら','なり','なる','なん','に','において','における','について','にて','によって','により','による','に対して','に対する','に関する','の','ので','のみ','は','ば','へ','ほか','ほとんど','ほど','ます','また','または','まで','も','もの','ものの','や','よう','より','ら','られ','られる','れ','れる','を','ん','何','及び','彼','彼女','我々','特に','私','私達','貴方','貴方方''ようこそ','ウィキペディア','ウィキペディア日本語版','百科事典目次','検索資料','空白','補助記号','）', '（', '。', '、', '『', '』', '・', '！','：', '／', '＋', '→', '「', '」', '\\n', ' ', '-', '/', '\\\\']\n",
    "#stop += list(string.punctuation)\n",
    "stop += list(string.printable)"
   ]
  },
  {
   "cell_type": "code",
   "execution_count": 6,
   "id": "9b611d94",
   "metadata": {},
   "outputs": [],
   "source": [
    "# Extract data from dataframe\n",
    "data = np.array(wiki_df['text'])"
   ]
  },
  {
   "cell_type": "markdown",
   "id": "75c2dc91",
   "metadata": {},
   "source": [
    "# Data Cleaning & Summarization Options"
   ]
  },
  {
   "cell_type": "markdown",
   "id": "21c8f4cc",
   "metadata": {},
   "source": [
    "## Data cleaning - remove all stop characters"
   ]
  },
  {
   "cell_type": "code",
   "execution_count": null,
   "id": "95c5310a",
   "metadata": {},
   "outputs": [],
   "source": [
    "new_data = []\n",
    "for text in data:\n",
    "    new_text = \"\"\n",
    "    for character in text:\n",
    "        if character not in stop:\n",
    "            new_text += character\n",
    "    new_data.append(new_text)"
   ]
  },
  {
   "cell_type": "markdown",
   "id": "3c336667",
   "metadata": {},
   "source": [
    "## Text features using Japanese grammar\n",
    "\n",
    "\n",
    "は   wa   topic     (after)\n",
    "が   ga   nontopic  (after)\n",
    "を   o    object    (after)\n",
    "する suru verb      (after)\n",
    "る   ru   verb      (after)\n",
    "な   na   adjective (after)\n",
    "い   i    adjective (after)\n",
    "の   no   adj or loc(before)\n",
    "\n",
    "distance of each of the above\n",
    "\n",
    "start of a sentence\n",
    "end of a sentence"
   ]
  },
  {
   "cell_type": "code",
   "execution_count": null,
   "id": "3d9d5da1",
   "metadata": {},
   "outputs": [],
   "source": [
    "article_num = 0\n",
    "features = []\n",
    "for article in data[0:1000]:\n",
    "    sentence_num = 0\n",
    "    for sentence in re.split('\\n|。', article):\n",
    "        cleaned = re.sub('['+'|'.join(list(string.printable))+']','',sentence)\n",
    "        for i in range(len(cleaned)):\n",
    "            wa = cleaned[i:].find('は')\n",
    "            ga = cleaned[i:].find('が')\n",
    "            o = cleaned[i:].find('を')\n",
    "            suru = cleaned[i:].find('する')\n",
    "            ru = cleaned[i:].find('る')\n",
    "            na = cleaned[i:].find('な')\n",
    "            ii = cleaned[i:].find('い')\n",
    "            no = cleaned[(len(cleaned)-i)::-1].find('の')\n",
    "            if i==0: \n",
    "                start_of_sentence = 1\n",
    "            else:\n",
    "                start_of_sentence = 0\n",
    "            if i==len(cleaned):\n",
    "                end_of_sentence = 1\n",
    "            else:\n",
    "                end_of_sentence = 0\n",
    "            char_data = [cleaned[i], article_num, sentence_num, wa, ga, o, suru, ru, na, ii, no, start_of_sentence, end_of_sentence]\n",
    "            features.append(char_data)\n",
    "        sentence_num += 1\n",
    "    article_num += 1\n",
    "df = pd.DataFrame(features)\n",
    "df.columns = ['character','articleNumber','sentenceNumber','wa','ga','o','suru','ru','na','ii','no','startSentence','endSentence']"
   ]
  },
  {
   "cell_type": "markdown",
   "id": "9b0e220f",
   "metadata": {},
   "source": [
    "## Find most commonly used character combinations"
   ]
  },
  {
   "cell_type": "code",
   "execution_count": null,
   "id": "f29e223d",
   "metadata": {},
   "outputs": [],
   "source": [
    "word_combo_dict1 = collections.Counter()\n",
    "word_combo_dict2 = collections.Counter()\n",
    "word_combo_dict3 = collections.Counter()\n",
    "\n",
    "for article in data[0:1000]:\n",
    "    for sentence in re.split('\\n|。', article):\n",
    "        cleaned = re.sub('['+'|'.join(list(string.printable))+']','',sentence)\n",
    "        for i in range(len(cleaned)):\n",
    "            word_combo_dict1[cleaned[i]] += 1\n",
    "            if i < (len(cleaned)-2):\n",
    "                word_combo_dict2[cleaned[i:i+2]] += 1\n",
    "            if i < (len(cleaned)-3):\n",
    "                word_combo_dict3[cleaned[i:i+3]] += 1"
   ]
  },
  {
   "cell_type": "code",
   "execution_count": null,
   "id": "fafb9922",
   "metadata": {},
   "outputs": [],
   "source": [
    "word_combo_dict1.most_common(10)"
   ]
  },
  {
   "cell_type": "code",
   "execution_count": null,
   "id": "ce08f4ff",
   "metadata": {},
   "outputs": [],
   "source": [
    "word_combo_dict2.most_common(10)"
   ]
  },
  {
   "cell_type": "code",
   "execution_count": null,
   "id": "c888cf40",
   "metadata": {},
   "outputs": [],
   "source": [
    "word_combo_dict3.most_common(10)"
   ]
  },
  {
   "cell_type": "markdown",
   "id": "8ed03dd5",
   "metadata": {},
   "source": [
    "## Generate nagisa labeled data"
   ]
  },
  {
   "cell_type": "code",
   "execution_count": null,
   "id": "f1c38acd",
   "metadata": {},
   "outputs": [],
   "source": [
    "labeled_data = []\n",
    "# use first 150 articles only due to data size\n",
    "for doc_num in range(150):\n",
    "    cur_text = nagisa.tagging(data[doc_num])\n",
    "    words = cur_text.words\n",
    "    postags = cur_text.postags\n",
    "    char_offset = 0\n",
    "    for i in range(len(words)):\n",
    "        labeled_data.append([doc_num, char_offset, words[i], postags[i]])\n",
    "    print(\"finished \" + str(doc_num))\n",
    "labeled_df = pd.DataFrame(labeled_data)\n",
    "labeled_df.to_pickle('labeledData.pkl')"
   ]
  }
 ],
 "metadata": {
  "kernelspec": {
   "display_name": "Python 3 (ipykernel)",
   "language": "python",
   "name": "python3"
  },
  "language_info": {
   "codemirror_mode": {
    "name": "ipython",
    "version": 3
   },
   "file_extension": ".py",
   "mimetype": "text/x-python",
   "name": "python",
   "nbconvert_exporter": "python",
   "pygments_lexer": "ipython3",
   "version": "3.7.13"
  }
 },
 "nbformat": 4,
 "nbformat_minor": 5
}

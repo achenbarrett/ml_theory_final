{
 "cells": [
  {
   "cell_type": "code",
   "execution_count": null,
   "id": "bc81af83",
   "metadata": {},
   "outputs": [],
   "source": [
    "#742 Project - Theory of Machine Learning - Final Project\n",
    "#Anjelika Klamp\n",
    "\n",
    "#Popularity prediction of 8,412 Japanese Wikipedia articles."
   ]
  },
  {
   "cell_type": "code",
   "execution_count": 1,
   "id": "cda27ec4",
   "metadata": {},
   "outputs": [],
   "source": [
    "#To ensure all output from a cell is shown.\n",
    "\n",
    "from IPython.core.interactiveshell import InteractiveShell\n",
    "InteractiveShell.ast_node_interactivity = \"all\""
   ]
  },
  {
   "cell_type": "code",
   "execution_count": 2,
   "id": "bd77b740",
   "metadata": {},
   "outputs": [],
   "source": [
    "#Importing the necessary libraries\n",
    "\n",
    "from math import sqrt\n",
    "import numpy as np\n",
    "import pandas as pd\n",
    "\n",
    "%matplotlib inline\n",
    "import matplotlib.pyplot as plt\n",
    "import seaborn as sns\n",
    "plt.style.use(\"ggplot\")\n",
    "plt.usetex = True\n",
    "plt.rcParams[\"figure.figsize\"] = (11, 5)  #set default figure size\n",
    "\n",
    "import re, unicodedata\n",
    "import contractions\n",
    "import nltk\n",
    "from nltk.corpus import stopwords\n",
    "\n",
    "import nagisa\n",
    "import string\n",
    "\n",
    "from sklearn.feature_extraction.text import CountVectorizer\n",
    "from sklearn.feature_extraction.text import TfidfVectorizer\n",
    "\n",
    "from sklearn.model_selection import train_test_split\n",
    "\n",
    "from scipy.stats import kstest\n",
    " \n",
    "from sklearn.ensemble import RandomForestRegressor\n",
    "from sklearn.neighbors import KNeighborsRegressor\n",
    "from sklearn.svm import SVR\n",
    "from sklearn.model_selection import GridSearchCV\n",
    "\n",
    "from sklearn.metrics import mean_squared_error"
   ]
  },
  {
   "cell_type": "code",
   "execution_count": 3,
   "id": "7bceb18b",
   "metadata": {},
   "outputs": [
    {
     "data": {
      "text/html": [
       "<div>\n",
       "<style scoped>\n",
       "    .dataframe tbody tr th:only-of-type {\n",
       "        vertical-align: middle;\n",
       "    }\n",
       "\n",
       "    .dataframe tbody tr th {\n",
       "        vertical-align: top;\n",
       "    }\n",
       "\n",
       "    .dataframe thead th {\n",
       "        text-align: right;\n",
       "    }\n",
       "</style>\n",
       "<table border=\"1\" class=\"dataframe\">\n",
       "  <thead>\n",
       "    <tr style=\"text-align: right;\">\n",
       "      <th></th>\n",
       "      <th>article</th>\n",
       "      <th>views</th>\n",
       "      <th>text</th>\n",
       "    </tr>\n",
       "  </thead>\n",
       "  <tbody>\n",
       "    <tr>\n",
       "      <th>0</th>\n",
       "      <td>メインページ</td>\n",
       "      <td>362562853</td>\n",
       "      <td>ようこそ\\nウィキペディア - ウィキペディア日本語版 - 百科事典目次\\n検索資料・ポータ...</td>\n",
       "    </tr>\n",
       "    <tr>\n",
       "      <th>1</th>\n",
       "      <td>星野源</td>\n",
       "      <td>10190763</td>\n",
       "      <td>星野 源（ほしの みなもと、1981年1月28日 - ）は、日本の音楽家、俳優、文筆家。埼玉...</td>\n",
       "    </tr>\n",
       "    <tr>\n",
       "      <th>2</th>\n",
       "      <td>真田信繁</td>\n",
       "      <td>9602104</td>\n",
       "      <td>真田 信繁（さなだ のぶしげ）は、安土桃山時代から江戸時代初期にかけての武将、大名。真田昌幸...</td>\n",
       "    </tr>\n",
       "    <tr>\n",
       "      <th>3</th>\n",
       "      <td>高橋一生</td>\n",
       "      <td>8571666</td>\n",
       "      <td>高橋 一生（たかはし いっせい、英字表記：Issey Takahashi、1980年12月9...</td>\n",
       "    </tr>\n",
       "    <tr>\n",
       "      <th>4</th>\n",
       "      <td>君の名は。</td>\n",
       "      <td>7788879</td>\n",
       "      <td>『君の名は。』（きみのなは、英: Your Name.）は、2016年に公開された新海誠監督...</td>\n",
       "    </tr>\n",
       "  </tbody>\n",
       "</table>\n",
       "</div>"
      ],
      "text/plain": [
       "  article      views                                               text\n",
       "0  メインページ  362562853  ようこそ\\nウィキペディア - ウィキペディア日本語版 - 百科事典目次\\n検索資料・ポータ...\n",
       "1     星野源   10190763  星野 源（ほしの みなもと、1981年1月28日 - ）は、日本の音楽家、俳優、文筆家。埼玉...\n",
       "2    真田信繁    9602104  真田 信繁（さなだ のぶしげ）は、安土桃山時代から江戸時代初期にかけての武将、大名。真田昌幸...\n",
       "3    高橋一生    8571666  高橋 一生（たかはし いっせい、英字表記：Issey Takahashi、1980年12月9...\n",
       "4   君の名は。    7788879  『君の名は。』（きみのなは、英: Your Name.）は、2016年に公開された新海誠監督..."
      ]
     },
     "execution_count": 3,
     "metadata": {},
     "output_type": "execute_result"
    }
   ],
   "source": [
    "#Reading in the original data file from Kaggle in pickle format,\n",
    "#with 8,412 observations.\n",
    "\n",
    "j=pd.read_pickle('wiki')\n",
    "j.head()"
   ]
  },
  {
   "cell_type": "code",
   "execution_count": 4,
   "id": "99fe76b5",
   "metadata": {},
   "outputs": [],
   "source": [
    "#Function to remove numbers, replace contractions and lowercase for Latin based words\n",
    "#(Romaji).\n",
    "\n",
    "#def cleanup(text):\n",
    "#    text = re.sub(r'\\d+', '', text)\n",
    "#    return contractions.fix(text).lower()"
   ]
  },
  {
   "cell_type": "code",
   "execution_count": 5,
   "id": "b6c578af",
   "metadata": {},
   "outputs": [],
   "source": [
    "#j['clean'] = j['text'].apply(lambda x: cleanup(x))\n",
    "#j['clean'].head(10)"
   ]
  },
  {
   "cell_type": "code",
   "execution_count": 6,
   "id": "69672e33",
   "metadata": {},
   "outputs": [],
   "source": [
    "#Tokenizing data using nagisa (based on a neural network).\n",
    "#This step does not take long to run. However, its output\n",
    "#in each cell then needs to be put back into string form\n",
    "#so it can be fed into the vectorizer.\n",
    "\n",
    "#j['j_parsed'] = j['clean'].apply(lambda x: nagisa.tagging(x))\n",
    "#j['j_parsed'].head()"
   ]
  },
  {
   "cell_type": "code",
   "execution_count": 7,
   "id": "c9a225c9",
   "metadata": {},
   "outputs": [],
   "source": [
    "#Caution: This step takes a long time to run. Avoid running unnecessarily.\n",
    "#Get the file from pre-processed pkl file instead!\n",
    "\n",
    "#l=j.shape[0]\n",
    "\n",
    "#for i in range(l):\n",
    "#    p.append(' '.join(j['j_parsed'][i].words))"
   ]
  },
  {
   "cell_type": "code",
   "execution_count": 8,
   "id": "d164268d",
   "metadata": {},
   "outputs": [],
   "source": [
    "#This step only needed when preprocessing for the first time. \n",
    "#Saving is done in batches as the array is too big for the memory\n",
    "#of a regular laptop after it has done the previous step.\n",
    "\n",
    "#list_of_texts = pd.DataFrame(data=np.asarray(parsed[0:2000]))\n",
    "#list_of_texts.to_pickle('./list_of_texts_whole1.pkl')\n",
    "#list_of_texts = pd.DataFrame(data=np.asarray(parsed[2000:4000]))\n",
    "#list_of_texts.to_pickle('./list_of_texts_whole2.pkl')\n",
    "#list_of_texts = pd.DataFrame(data=np.asarray(parsed[4000:6000]))\n",
    "#list_of_texts.to_pickle('./list_of_texts_whole3.pkl')\n",
    "#list_of_texts = pd.DataFrame(data=np.asarray(parsed[6000:8000]))\n",
    "#list_of_texts.to_pickle('./list_of_texts_whole4.pkl')\n",
    "#list_of_texts = pd.DataFrame(data=np.asarray(parsed[8000:]))\n",
    "#list_of_texts.to_pickle('./list_of_texts_whole5.pkl')"
   ]
  },
  {
   "cell_type": "code",
   "execution_count": 9,
   "id": "91054a88",
   "metadata": {},
   "outputs": [
    {
     "data": {
      "text/plain": [
       "(2000, 1)"
      ]
     },
     "execution_count": 9,
     "metadata": {},
     "output_type": "execute_result"
    },
    {
     "data": {
      "text/plain": [
       "(2000, 1)"
      ]
     },
     "execution_count": 9,
     "metadata": {},
     "output_type": "execute_result"
    },
    {
     "data": {
      "text/plain": [
       "(2000, 1)"
      ]
     },
     "execution_count": 9,
     "metadata": {},
     "output_type": "execute_result"
    },
    {
     "data": {
      "text/plain": [
       "(2000, 1)"
      ]
     },
     "execution_count": 9,
     "metadata": {},
     "output_type": "execute_result"
    },
    {
     "data": {
      "text/plain": [
       "(412, 1)"
      ]
     },
     "execution_count": 9,
     "metadata": {},
     "output_type": "execute_result"
    },
    {
     "data": {
      "text/html": [
       "<div>\n",
       "<style scoped>\n",
       "    .dataframe tbody tr th:only-of-type {\n",
       "        vertical-align: middle;\n",
       "    }\n",
       "\n",
       "    .dataframe tbody tr th {\n",
       "        vertical-align: top;\n",
       "    }\n",
       "\n",
       "    .dataframe thead th {\n",
       "        text-align: right;\n",
       "    }\n",
       "</style>\n",
       "<table border=\"1\" class=\"dataframe\">\n",
       "  <thead>\n",
       "    <tr style=\"text-align: right;\">\n",
       "      <th></th>\n",
       "      <th>0</th>\n",
       "    </tr>\n",
       "  </thead>\n",
       "  <tbody>\n",
       "    <tr>\n",
       "      <th>0</th>\n",
       "      <td>よう こそ \\n ウィキペディア 　 - 　 ウィキペディア 日本 語 版 　 - 　 百 ...</td>\n",
       "    </tr>\n",
       "    <tr>\n",
       "      <th>1</th>\n",
       "      <td>星野 　 源 ( ほしの 　 みな もと 、 年 月 日 　 - 　 ) は 、 日本 の ...</td>\n",
       "    </tr>\n",
       "    <tr>\n",
       "      <th>2</th>\n",
       "      <td>真田 　 信繁 ( さなだ 　 のぶしげ ) は 、 安土 桃山 時代 から 江戸 時代 初...</td>\n",
       "    </tr>\n",
       "    <tr>\n",
       "      <th>3</th>\n",
       "      <td>高橋 　 一生 ( たか は し 　 いっせい 、 英字 表記 : issey 　 taka...</td>\n",
       "    </tr>\n",
       "    <tr>\n",
       "      <th>4</th>\n",
       "      <td>『 君 の 名 は 。 』 ( きみ の な は 、 英 : 　 your 　 name ....</td>\n",
       "    </tr>\n",
       "  </tbody>\n",
       "</table>\n",
       "</div>"
      ],
      "text/plain": [
       "                                                   0\n",
       "0  よう こそ \\n ウィキペディア 　 - 　 ウィキペディア 日本 語 版 　 - 　 百 ...\n",
       "1  星野 　 源 ( ほしの 　 みな もと 、 年 月 日 　 - 　 ) は 、 日本 の ...\n",
       "2  真田 　 信繁 ( さなだ 　 のぶしげ ) は 、 安土 桃山 時代 から 江戸 時代 初...\n",
       "3  高橋 　 一生 ( たか は し 　 いっせい 、 英字 表記 : issey 　 taka...\n",
       "4  『 君 の 名 は 。 』 ( きみ の な は 、 英 : 　 your 　 name ...."
      ]
     },
     "execution_count": 9,
     "metadata": {},
     "output_type": "execute_result"
    },
    {
     "data": {
      "text/html": [
       "<div>\n",
       "<style scoped>\n",
       "    .dataframe tbody tr th:only-of-type {\n",
       "        vertical-align: middle;\n",
       "    }\n",
       "\n",
       "    .dataframe tbody tr th {\n",
       "        vertical-align: top;\n",
       "    }\n",
       "\n",
       "    .dataframe thead th {\n",
       "        text-align: right;\n",
       "    }\n",
       "</style>\n",
       "<table border=\"1\" class=\"dataframe\">\n",
       "  <thead>\n",
       "    <tr style=\"text-align: right;\">\n",
       "      <th></th>\n",
       "      <th>0</th>\n",
       "    </tr>\n",
       "  </thead>\n",
       "  <tbody>\n",
       "    <tr>\n",
       "      <th>0</th>\n",
       "      <td>『 まれ 』 は 、 年 ( 平成 年度 ) 上 半期 に nhk 総合 テレビジョン ・ ...</td>\n",
       "    </tr>\n",
       "    <tr>\n",
       "      <th>1</th>\n",
       "      <td>超 特急 ( ちょうとっきゅう ) は 、 日本 の 音楽 グループ 、 ebidan の ...</td>\n",
       "    </tr>\n",
       "    <tr>\n",
       "      <th>2</th>\n",
       "      <td>『 シュガー ・ ラッシュ 』 ( 原題 : wreck-it 　 ralph ) は 、 ...</td>\n",
       "    </tr>\n",
       "    <tr>\n",
       "      <th>3</th>\n",
       "      <td>吉田 　 美和 ( よし だ 　 みわ 、 年 月 日 　 - 　 ) は 、 dreams...</td>\n",
       "    </tr>\n",
       "    <tr>\n",
       "      <th>4</th>\n",
       "      <td>彼岸 ( ひがん ) と は 、 雑節 の 一 つ で 、 春分 ・ 秋分 を 中日 と し...</td>\n",
       "    </tr>\n",
       "  </tbody>\n",
       "</table>\n",
       "</div>"
      ],
      "text/plain": [
       "                                                   0\n",
       "0  『 まれ 』 は 、 年 ( 平成 年度 ) 上 半期 に nhk 総合 テレビジョン ・ ...\n",
       "1  超 特急 ( ちょうとっきゅう ) は 、 日本 の 音楽 グループ 、 ebidan の ...\n",
       "2  『 シュガー ・ ラッシュ 』 ( 原題 : wreck-it 　 ralph ) は 、 ...\n",
       "3  吉田 　 美和 ( よし だ 　 みわ 、 年 月 日 　 - 　 ) は 、 dreams...\n",
       "4  彼岸 ( ひがん ) と は 、 雑節 の 一 つ で 、 春分 ・ 秋分 を 中日 と し..."
      ]
     },
     "execution_count": 9,
     "metadata": {},
     "output_type": "execute_result"
    },
    {
     "data": {
      "text/html": [
       "<div>\n",
       "<style scoped>\n",
       "    .dataframe tbody tr th:only-of-type {\n",
       "        vertical-align: middle;\n",
       "    }\n",
       "\n",
       "    .dataframe tbody tr th {\n",
       "        vertical-align: top;\n",
       "    }\n",
       "\n",
       "    .dataframe thead th {\n",
       "        text-align: right;\n",
       "    }\n",
       "</style>\n",
       "<table border=\"1\" class=\"dataframe\">\n",
       "  <thead>\n",
       "    <tr style=\"text-align: right;\">\n",
       "      <th></th>\n",
       "      <th>0</th>\n",
       "    </tr>\n",
       "  </thead>\n",
       "  <tbody>\n",
       "    <tr>\n",
       "      <th>0</th>\n",
       "      <td>三 又 　 又 三 ( み また 　 またぞう 、 年 月 日 　 - 　 ) は 、 日本...</td>\n",
       "    </tr>\n",
       "    <tr>\n",
       "      <th>1</th>\n",
       "      <td>アントーニ ・ ファン ・ レーウェン フック ( レーベン フック 、 antonie 　...</td>\n",
       "    </tr>\n",
       "    <tr>\n",
       "      <th>2</th>\n",
       "      <td>アナーキー は 、 日本 の パン クロック バンド で ある 。 \\n アルファベット で...</td>\n",
       "    </tr>\n",
       "    <tr>\n",
       "      <th>3</th>\n",
       "      <td>『 ソルト 』 ( salt ) は 、 年 の アメリカ 映画 で ある 。 監督 は フ...</td>\n",
       "    </tr>\n",
       "    <tr>\n",
       "      <th>4</th>\n",
       "      <td>ヴィン ・ ディーゼル ( vin 　 diesel , 　 年 月 日 　 - 　 ) は...</td>\n",
       "    </tr>\n",
       "  </tbody>\n",
       "</table>\n",
       "</div>"
      ],
      "text/plain": [
       "                                                   0\n",
       "0  三 又 　 又 三 ( み また 　 またぞう 、 年 月 日 　 - 　 ) は 、 日本...\n",
       "1  アントーニ ・ ファン ・ レーウェン フック ( レーベン フック 、 antonie 　...\n",
       "2  アナーキー は 、 日本 の パン クロック バンド で ある 。 \\n アルファベット で...\n",
       "3  『 ソルト 』 ( salt ) は 、 年 の アメリカ 映画 で ある 。 監督 は フ...\n",
       "4  ヴィン ・ ディーゼル ( vin 　 diesel , 　 年 月 日 　 - 　 ) は..."
      ]
     },
     "execution_count": 9,
     "metadata": {},
     "output_type": "execute_result"
    },
    {
     "data": {
      "text/html": [
       "<div>\n",
       "<style scoped>\n",
       "    .dataframe tbody tr th:only-of-type {\n",
       "        vertical-align: middle;\n",
       "    }\n",
       "\n",
       "    .dataframe tbody tr th {\n",
       "        vertical-align: top;\n",
       "    }\n",
       "\n",
       "    .dataframe thead th {\n",
       "        text-align: right;\n",
       "    }\n",
       "</style>\n",
       "<table border=\"1\" class=\"dataframe\">\n",
       "  <thead>\n",
       "    <tr style=\"text-align: right;\">\n",
       "      <th></th>\n",
       "      <th>0</th>\n",
       "    </tr>\n",
       "  </thead>\n",
       "  <tbody>\n",
       "    <tr>\n",
       "      <th>0</th>\n",
       "      <td>三上 　 博史 ( みかみ 　 ひろし 、 生 年 非 公表 ) は 、 日本 の 俳優 、...</td>\n",
       "    </tr>\n",
       "    <tr>\n",
       "      <th>1</th>\n",
       "      <td>細川 　 護熙 ( ほそかわ 　 もりひろ 、 年 ( 昭和 年 ) 月日 　 - 　 ) ...</td>\n",
       "    </tr>\n",
       "    <tr>\n",
       "      <th>2</th>\n",
       "      <td>サッカーベルギー 代表 ( オランダ 語 : 　 belgisch 　 voetbalelf...</td>\n",
       "    </tr>\n",
       "    <tr>\n",
       "      <th>3</th>\n",
       "      <td>レオナ ・ ヘルムズリー ( leona 　 helmsley , 　 年 月 日 　 - ...</td>\n",
       "    </tr>\n",
       "    <tr>\n",
       "      <th>4</th>\n",
       "      <td>第 艦隊 ( だいなな かん たい 、 you.s. 　 seventh 　 fleet )...</td>\n",
       "    </tr>\n",
       "  </tbody>\n",
       "</table>\n",
       "</div>"
      ],
      "text/plain": [
       "                                                   0\n",
       "0  三上 　 博史 ( みかみ 　 ひろし 、 生 年 非 公表 ) は 、 日本 の 俳優 、...\n",
       "1  細川 　 護熙 ( ほそかわ 　 もりひろ 、 年 ( 昭和 年 ) 月日 　 - 　 ) ...\n",
       "2  サッカーベルギー 代表 ( オランダ 語 : 　 belgisch 　 voetbalelf...\n",
       "3  レオナ ・ ヘルムズリー ( leona 　 helmsley , 　 年 月 日 　 - ...\n",
       "4  第 艦隊 ( だいなな かん たい 、 you.s. 　 seventh 　 fleet )..."
      ]
     },
     "execution_count": 9,
     "metadata": {},
     "output_type": "execute_result"
    },
    {
     "data": {
      "text/html": [
       "<div>\n",
       "<style scoped>\n",
       "    .dataframe tbody tr th:only-of-type {\n",
       "        vertical-align: middle;\n",
       "    }\n",
       "\n",
       "    .dataframe tbody tr th {\n",
       "        vertical-align: top;\n",
       "    }\n",
       "\n",
       "    .dataframe thead th {\n",
       "        text-align: right;\n",
       "    }\n",
       "</style>\n",
       "<table border=\"1\" class=\"dataframe\">\n",
       "  <thead>\n",
       "    <tr style=\"text-align: right;\">\n",
       "      <th></th>\n",
       "      <th>0</th>\n",
       "    </tr>\n",
       "  </thead>\n",
       "  <tbody>\n",
       "    <tr>\n",
       "      <th>0</th>\n",
       "      <td>運慶 ( うんけい 、 生 年 不詳 　 - 　 貞応 年 月 日 ( 年 月 日 ) ) ...</td>\n",
       "    </tr>\n",
       "    <tr>\n",
       "      <th>1</th>\n",
       "      <td>成田 屋 ( なりたや ) は 、 歌舞伎 役者 の 屋号 。 歌舞伎 に おけ る 屋号 ...</td>\n",
       "    </tr>\n",
       "    <tr>\n",
       "      <th>2</th>\n",
       "      <td>\\n = = 　 略歴 　 = = \\n 年月 に 開催 さ れ た 『 seventeen...</td>\n",
       "    </tr>\n",
       "    <tr>\n",
       "      <th>3</th>\n",
       "      <td>サンマリノ 共和 国 \\n serenissima 　 repubblica 　 di 　 ...</td>\n",
       "    </tr>\n",
       "    <tr>\n",
       "      <th>4</th>\n",
       "      <td>『 プライム ニュース 　 イブニング 』 ( ラテン 文字 表記 : prime 　 ne...</td>\n",
       "    </tr>\n",
       "  </tbody>\n",
       "</table>\n",
       "</div>"
      ],
      "text/plain": [
       "                                                   0\n",
       "0  運慶 ( うんけい 、 生 年 不詳 　 - 　 貞応 年 月 日 ( 年 月 日 ) ) ...\n",
       "1  成田 屋 ( なりたや ) は 、 歌舞伎 役者 の 屋号 。 歌舞伎 に おけ る 屋号 ...\n",
       "2  \\n = = 　 略歴 　 = = \\n 年月 に 開催 さ れ た 『 seventeen...\n",
       "3  サンマリノ 共和 国 \\n serenissima 　 repubblica 　 di 　 ...\n",
       "4  『 プライム ニュース 　 イブニング 』 ( ラテン 文字 表記 : prime 　 ne..."
      ]
     },
     "execution_count": 9,
     "metadata": {},
     "output_type": "execute_result"
    }
   ],
   "source": [
    "#Read in the 5 files with all pre-processed tokenized articles.\n",
    "\n",
    "a=pd.read_pickle('list_of_texts_whole1.pkl')\n",
    "b=pd.read_pickle('list_of_texts_whole2.pkl')\n",
    "c=pd.read_pickle('list_of_texts_whole3.pkl')\n",
    "d=pd.read_pickle('list_of_texts_whole4.pkl')\n",
    "e=pd.read_pickle('list_of_texts_whole5.pkl')\n",
    "\n",
    "a.shape\n",
    "b.shape\n",
    "c.shape\n",
    "d.shape\n",
    "e.shape\n",
    "\n",
    "a.head()\n",
    "b.head()\n",
    "c.head()\n",
    "d.head()\n",
    "e.head()"
   ]
  },
  {
   "cell_type": "code",
   "execution_count": 10,
   "id": "61d59778",
   "metadata": {},
   "outputs": [
    {
     "data": {
      "text/plain": [
       "(8412, 1)"
      ]
     },
     "execution_count": 10,
     "metadata": {},
     "output_type": "execute_result"
    },
    {
     "data": {
      "text/html": [
       "<div>\n",
       "<style scoped>\n",
       "    .dataframe tbody tr th:only-of-type {\n",
       "        vertical-align: middle;\n",
       "    }\n",
       "\n",
       "    .dataframe tbody tr th {\n",
       "        vertical-align: top;\n",
       "    }\n",
       "\n",
       "    .dataframe thead th {\n",
       "        text-align: right;\n",
       "    }\n",
       "</style>\n",
       "<table border=\"1\" class=\"dataframe\">\n",
       "  <thead>\n",
       "    <tr style=\"text-align: right;\">\n",
       "      <th></th>\n",
       "      <th>text</th>\n",
       "    </tr>\n",
       "  </thead>\n",
       "  <tbody>\n",
       "    <tr>\n",
       "      <th>0</th>\n",
       "      <td>よう こそ \\n ウィキペディア 　 - 　 ウィキペディア 日本 語 版 　 - 　 百 ...</td>\n",
       "    </tr>\n",
       "    <tr>\n",
       "      <th>1</th>\n",
       "      <td>星野 　 源 ( ほしの 　 みな もと 、 年 月 日 　 - 　 ) は 、 日本 の ...</td>\n",
       "    </tr>\n",
       "    <tr>\n",
       "      <th>2</th>\n",
       "      <td>真田 　 信繁 ( さなだ 　 のぶしげ ) は 、 安土 桃山 時代 から 江戸 時代 初...</td>\n",
       "    </tr>\n",
       "    <tr>\n",
       "      <th>3</th>\n",
       "      <td>高橋 　 一生 ( たか は し 　 いっせい 、 英字 表記 : issey 　 taka...</td>\n",
       "    </tr>\n",
       "    <tr>\n",
       "      <th>4</th>\n",
       "      <td>『 君 の 名 は 。 』 ( きみ の な は 、 英 : 　 your 　 name ....</td>\n",
       "    </tr>\n",
       "  </tbody>\n",
       "</table>\n",
       "</div>"
      ],
      "text/plain": [
       "                                                text\n",
       "0  よう こそ \\n ウィキペディア 　 - 　 ウィキペディア 日本 語 版 　 - 　 百 ...\n",
       "1  星野 　 源 ( ほしの 　 みな もと 、 年 月 日 　 - 　 ) は 、 日本 の ...\n",
       "2  真田 　 信繁 ( さなだ 　 のぶしげ ) は 、 安土 桃山 時代 から 江戸 時代 初...\n",
       "3  高橋 　 一生 ( たか は し 　 いっせい 、 英字 表記 : issey 　 taka...\n",
       "4  『 君 の 名 は 。 』 ( きみ の な は 、 英 : 　 your 　 name ...."
      ]
     },
     "execution_count": 10,
     "metadata": {},
     "output_type": "execute_result"
    }
   ],
   "source": [
    "#Concatenate the five dataframes and assign a title.\n",
    "\n",
    "jw=pd.concat([a,b,c,d,e]).reset_index(drop=True)\n",
    "jw.columns=['text']\n",
    "jw.shape\n",
    "jw.head()"
   ]
  },
  {
   "cell_type": "code",
   "execution_count": 11,
   "id": "6c8ae376",
   "metadata": {},
   "outputs": [],
   "source": [
    "#Copy over the article and views columns from the original dataframe.\n",
    "\n",
    "jw[['article','views']]=j[['article','views']]"
   ]
  },
  {
   "cell_type": "code",
   "execution_count": 12,
   "id": "111ae16a",
   "metadata": {},
   "outputs": [
    {
     "data": {
      "text/html": [
       "<div>\n",
       "<style scoped>\n",
       "    .dataframe tbody tr th:only-of-type {\n",
       "        vertical-align: middle;\n",
       "    }\n",
       "\n",
       "    .dataframe tbody tr th {\n",
       "        vertical-align: top;\n",
       "    }\n",
       "\n",
       "    .dataframe thead th {\n",
       "        text-align: right;\n",
       "    }\n",
       "</style>\n",
       "<table border=\"1\" class=\"dataframe\">\n",
       "  <thead>\n",
       "    <tr style=\"text-align: right;\">\n",
       "      <th></th>\n",
       "      <th>text</th>\n",
       "      <th>article</th>\n",
       "      <th>views</th>\n",
       "    </tr>\n",
       "  </thead>\n",
       "  <tbody>\n",
       "    <tr>\n",
       "      <th>0</th>\n",
       "      <td>よう こそ \\n ウィキペディア 　 - 　 ウィキペディア 日本 語 版 　 - 　 百 ...</td>\n",
       "      <td>メインページ</td>\n",
       "      <td>362562853</td>\n",
       "    </tr>\n",
       "    <tr>\n",
       "      <th>1</th>\n",
       "      <td>星野 　 源 ( ほしの 　 みな もと 、 年 月 日 　 - 　 ) は 、 日本 の ...</td>\n",
       "      <td>星野源</td>\n",
       "      <td>10190763</td>\n",
       "    </tr>\n",
       "    <tr>\n",
       "      <th>2</th>\n",
       "      <td>真田 　 信繁 ( さなだ 　 のぶしげ ) は 、 安土 桃山 時代 から 江戸 時代 初...</td>\n",
       "      <td>真田信繁</td>\n",
       "      <td>9602104</td>\n",
       "    </tr>\n",
       "    <tr>\n",
       "      <th>3</th>\n",
       "      <td>高橋 　 一生 ( たか は し 　 いっせい 、 英字 表記 : issey 　 taka...</td>\n",
       "      <td>高橋一生</td>\n",
       "      <td>8571666</td>\n",
       "    </tr>\n",
       "    <tr>\n",
       "      <th>4</th>\n",
       "      <td>『 君 の 名 は 。 』 ( きみ の な は 、 英 : 　 your 　 name ....</td>\n",
       "      <td>君の名は。</td>\n",
       "      <td>7788879</td>\n",
       "    </tr>\n",
       "    <tr>\n",
       "      <th>5</th>\n",
       "      <td>菅田 　 将暉 ( すだ 　 まさき 、 年 月 日 　 - 　 ) は 、 日本 の 俳優...</td>\n",
       "      <td>菅田将暉</td>\n",
       "      <td>7679480</td>\n",
       "    </tr>\n",
       "    <tr>\n",
       "      <th>6</th>\n",
       "      <td>吉岡 　 里帆 ( よしおか 　 りほ 、 年 月 日 　 - 　 ) は 、 日本 の 女...</td>\n",
       "      <td>吉岡里帆</td>\n",
       "      <td>7428176</td>\n",
       "    </tr>\n",
       "    <tr>\n",
       "      <th>7</th>\n",
       "      <td>one 　 ok 　 rock ( ワン オクロック ) は 、 日本 の ロック バンド ...</td>\n",
       "      <td>ONE_OK_ROCK</td>\n",
       "      <td>6950146</td>\n",
       "    </tr>\n",
       "    <tr>\n",
       "      <th>8</th>\n",
       "      <td>乃木坂 ( のぎざか 　 フォーティーシックス 、 nogizaka ) は 、 日本 の ...</td>\n",
       "      <td>乃木坂46</td>\n",
       "      <td>6798768</td>\n",
       "    </tr>\n",
       "    <tr>\n",
       "      <th>9</th>\n",
       "      <td>『 re : ゼロ から 始める 異 世界 生活 』 ( リ ・ ゼロ から はじめる いせ...</td>\n",
       "      <td>Re:ゼロから始める異世界生活</td>\n",
       "      <td>6709283</td>\n",
       "    </tr>\n",
       "  </tbody>\n",
       "</table>\n",
       "</div>"
      ],
      "text/plain": [
       "                                                text          article  \\\n",
       "0  よう こそ \\n ウィキペディア 　 - 　 ウィキペディア 日本 語 版 　 - 　 百 ...           メインページ   \n",
       "1  星野 　 源 ( ほしの 　 みな もと 、 年 月 日 　 - 　 ) は 、 日本 の ...              星野源   \n",
       "2  真田 　 信繁 ( さなだ 　 のぶしげ ) は 、 安土 桃山 時代 から 江戸 時代 初...             真田信繁   \n",
       "3  高橋 　 一生 ( たか は し 　 いっせい 、 英字 表記 : issey 　 taka...             高橋一生   \n",
       "4  『 君 の 名 は 。 』 ( きみ の な は 、 英 : 　 your 　 name ....            君の名は。   \n",
       "5  菅田 　 将暉 ( すだ 　 まさき 、 年 月 日 　 - 　 ) は 、 日本 の 俳優...             菅田将暉   \n",
       "6  吉岡 　 里帆 ( よしおか 　 りほ 、 年 月 日 　 - 　 ) は 、 日本 の 女...             吉岡里帆   \n",
       "7  one 　 ok 　 rock ( ワン オクロック ) は 、 日本 の ロック バンド ...      ONE_OK_ROCK   \n",
       "8  乃木坂 ( のぎざか 　 フォーティーシックス 、 nogizaka ) は 、 日本 の ...            乃木坂46   \n",
       "9  『 re : ゼロ から 始める 異 世界 生活 』 ( リ ・ ゼロ から はじめる いせ...  Re:ゼロから始める異世界生活   \n",
       "\n",
       "       views  \n",
       "0  362562853  \n",
       "1   10190763  \n",
       "2    9602104  \n",
       "3    8571666  \n",
       "4    7788879  \n",
       "5    7679480  \n",
       "6    7428176  \n",
       "7    6950146  \n",
       "8    6798768  \n",
       "9    6709283  "
      ]
     },
     "execution_count": 12,
     "metadata": {},
     "output_type": "execute_result"
    }
   ],
   "source": [
    "jw.sort_values(by='views',ascending=False).head(10)"
   ]
  },
  {
   "cell_type": "code",
   "execution_count": 13,
   "id": "29484806",
   "metadata": {},
   "outputs": [],
   "source": [
    "#I remove the first row, as it is the Wikipedia welcome page,\n",
    "#so will distort the analysis.\n",
    "\n",
    "#Second popular page is about a Japanese musician and actor\n",
    "#Hoshino.\n",
    "\n",
    "jw = jw.iloc[1: , :]"
   ]
  },
  {
   "cell_type": "code",
   "execution_count": 14,
   "id": "19790967",
   "metadata": {},
   "outputs": [
    {
     "data": {
      "text/plain": [
       "140"
      ]
     },
     "execution_count": 14,
     "metadata": {},
     "output_type": "execute_result"
    }
   ],
   "source": [
    "#This is a list of Japanese stopwords commonly used in NLP.\n",
    "\n",
    "stopwords_j = ['あそこ','あっ','あの','あのかた','あの人','あり','あります','ある','あれ','い','いう','います',\n",
    "               'いる','う','うち','え','お','および','おり','おります','か','かつて','から','が','き','ここ',\n",
    "               'こちら','こと','この','これ','これら','さ','さらに','し','しかし','する','ず','せ','せる',\n",
    "               'そこ','そして','その','その他','その後','それ','それぞれ','それで','た','ただし','たち',\n",
    "               'ため','たり','だ','だっ','だれ','つ','て','で','でき','できる','です','では','でも','と',\n",
    "               'という','といった','とき','ところ','として','とともに','とも','と共に','どこ','どの',\n",
    "               'な','ない','なお','なかっ','ながら','なく','なっ','など','なに','なら','なり','なる','なん',\n",
    "               'に','において','における','について','にて','によって','により','による','に対して','に対する',\n",
    "               'に関する','の','ので','のみ','は','ば','へ','ほか','ほとんど','ほど','ます','また','または',\n",
    "               'まで','も','もの','ものの','や','よう','より','ら','られ','られる','れ','れる','を','ん','何',\n",
    "               '及び','彼','彼女','我々','特に','私','私達','貴方','貴方方''ようこそ','ウィキペディア',\n",
    "               'ウィキペディア日本語版','百科事典目次','検索資料','空白','補助記号']\n",
    "len(stopwords_j)"
   ]
  },
  {
   "cell_type": "code",
   "execution_count": 15,
   "id": "eec58522",
   "metadata": {},
   "outputs": [
    {
     "data": {
      "text/plain": [
       "179"
      ]
     },
     "execution_count": 15,
     "metadata": {},
     "output_type": "execute_result"
    }
   ],
   "source": [
    "#These are English-based stopwords from nltk corpus.\n",
    "#Japanese contains words spelt in Latin characters mostly from \n",
    "#English, called Romaji. Although these are unlikely to be \n",
    "#stop words, it is still good practice to filter the data for\n",
    "#stop words that are latin-character based. \n",
    "\n",
    "len(stopwords.words('english'))"
   ]
  },
  {
   "cell_type": "code",
   "execution_count": 16,
   "id": "13e68737",
   "metadata": {},
   "outputs": [],
   "source": [
    "#Here I compile the overall list of stopwords to feed into the \n",
    "#vectorizer.\n",
    "\n",
    "#This is the union of the japanese stopword list,\n",
    "#the English based stopwords, the list of stop words that are \n",
    "#specific to this dataset (Wikipedia specific stopwords) and\n",
    "#punctuation characters. \n",
    "\n",
    "#It explicitely excludes any negative contractions to make sure \n",
    "#negatives are not deleted, as they are important to meaning of \n",
    "#the text. This step is just a precaution, as I already replaced\n",
    "#any contractions that might have been in the text at the \n",
    "#preprocessing stage.\n",
    "\n",
    "customlist_add = ['not', \"couldn't\", 'didn', \"didn't\", 'doesn', \"doesn't\", 'hadn', \"hadn't\", 'hasn',\n",
    "        \"hasn't\", 'haven', \"haven't\", 'isn', \"isn't\", 'ma', 'mightn', \"mightn't\", 'mustn',\n",
    "        \"mustn't\", 'needn', \"needn't\", 'shan', \"shan't\", 'shouldn', \"shouldn't\", 'wasn',\n",
    "        \"wasn't\", 'weren', \"weren't\", 'won', \"won't\", 'wouldn', \"wouldn't\"]\n",
    "\n",
    "customlist_remove=['\\n','\\u3000','Wikipedia','wikipedia','・','FAQ','Main','Page','for','For','non',\n",
    "                   'Japanese','speakers','learners','(',')','』','『']\n",
    "\n",
    "\n",
    "sw = list(set(stopwords.words('english')) | set(stopwords_j) | set(customlist_remove) | set(list(string.punctuation)) \n",
    "          - set(customlist_add))       "
   ]
  },
  {
   "cell_type": "code",
   "execution_count": 17,
   "id": "cd8d3db9",
   "metadata": {},
   "outputs": [
    {
     "data": {
      "text/plain": [
       "366"
      ]
     },
     "execution_count": 17,
     "metadata": {},
     "output_type": "execute_result"
    }
   ],
   "source": [
    "len(sw)"
   ]
  },
  {
   "cell_type": "code",
   "execution_count": 18,
   "id": "c2a72b5c",
   "metadata": {},
   "outputs": [],
   "source": [
    "n_features = 3000"
   ]
  },
  {
   "cell_type": "code",
   "execution_count": 19,
   "id": "5cf0a7f9",
   "metadata": {},
   "outputs": [
    {
     "name": "stderr",
     "output_type": "stream",
     "text": [
      "C:\\Users\\AnjelikaKlamp\\anaconda3\\envs\\torch\\lib\\site-packages\\sklearn\\feature_extraction\\text.py:401: UserWarning: Your stop_words may be inconsistent with your preprocessing. Tokenizing the stop words generated tokens ['faq', 'japanese', 'main', 'page'] not in stop_words.\n",
      "  % sorted(inconsistent)\n"
     ]
    }
   ],
   "source": [
    "#Using count vectorizer from SK Learn first to encode\n",
    "#features vectors from the pre-processed tokenized text \n",
    "#data. I choose to keep the first 4000 features.\n",
    "\n",
    "#In Japanese language, there are 2,000 single ideograms which are\n",
    "#commonly used in day-to-day life, and combinations of these\n",
    "#create more words. A too low number of features results \n",
    "#in poorly performing models.\n",
    "\n",
    "#The vectorizer simultaneously removes all stopwords\n",
    "#I had previously stored in sw.\n",
    "\n",
    "vectorizer = CountVectorizer(stop_words=sw,max_features=n_features)\n",
    "data_features_c = vectorizer.fit_transform(jw['text'])\n",
    "\n",
    "data_features_c = data_features_c.toarray()     "
   ]
  },
  {
   "cell_type": "code",
   "execution_count": 20,
   "id": "eeaac661",
   "metadata": {},
   "outputs": [
    {
     "data": {
      "image/png": "[encoded data removed]",
      "text/plain": [
       "<Figure size 1080x720 with 20 Axes>"
      ]
     },
     "metadata": {},
     "output_type": "display_data"
    }
   ],
   "source": [
    "#Here I illustrate what features data looks like, sorted in decreasing order.\n",
    "#This count vectorizer output, so it is count data, and the features matrix \n",
    "#is very sparse.\n",
    "\n",
    "top = 20\n",
    "x=range(n_features)\n",
    "\n",
    "ax = plt.figure(figsize=(15,10))\n",
    "pos = 1\n",
    "for i in range(top):\n",
    "    ax=plt.subplot(int(top/5), 5, pos)\n",
    "    ax=plt.scatter(x,y=-np.sort(-data_features_c[i]), color =\"b\")\n",
    "    pos += 1"
   ]
  },
  {
   "cell_type": "code",
   "execution_count": 21,
   "id": "4446c0ce",
   "metadata": {},
   "outputs": [
    {
     "data": {
      "text/plain": [
       "array([34, 27, 24, ...,  0,  0,  0], dtype=int64)"
      ]
     },
     "execution_count": 21,
     "metadata": {},
     "output_type": "execute_result"
    }
   ],
   "source": [
    "-np.sort(-data_features_c[0])"
   ]
  },
  {
   "cell_type": "code",
   "execution_count": 22,
   "id": "2bee12c6",
   "metadata": {},
   "outputs": [
    {
     "data": {
      "text/plain": [
       "array([1, 4, 5, 6, 6], dtype=int64)"
      ]
     },
     "execution_count": 22,
     "metadata": {},
     "output_type": "execute_result"
    },
    {
     "data": {
      "text/plain": [
       "array([  610,   610,   610, ..., 18416, 19933, 22978], dtype=int64)"
      ]
     },
     "execution_count": 22,
     "metadata": {},
     "output_type": "execute_result"
    },
    {
     "data": {
      "text/plain": [
       "array([1023, 1024, 1024, 1024, 1024], dtype=int64)"
      ]
     },
     "execution_count": 22,
     "metadata": {},
     "output_type": "execute_result"
    },
    {
     "data": {
      "text/plain": [
       "array([], dtype=int64)"
      ]
     },
     "execution_count": 22,
     "metadata": {},
     "output_type": "execute_result"
    },
    {
     "data": {
      "text/plain": [
       "array([[0, 0, 0, ..., 0, 0, 0],\n",
       "       [0, 0, 0, ..., 0, 0, 0],\n",
       "       [0, 0, 0, ..., 0, 0, 0],\n",
       "       [0, 0, 0, ..., 0, 0, 0],\n",
       "       [0, 0, 0, ..., 0, 0, 0]], dtype=int64)"
      ]
     },
     "execution_count": 22,
     "metadata": {},
     "output_type": "execute_result"
    },
    {
     "data": {
      "text/plain": [
       "array([[  0,   0,   0, ...,   0,   0,   0],\n",
       "       [  0,   0,   0, ...,   0,   0,   0],\n",
       "       [  0,   0,   0, ...,   0,   0,   0],\n",
       "       ...,\n",
       "       [ 26, 159,  24, ...,  55,  31,  40],\n",
       "       [ 31, 217,  26, ...,  67,  46,  42],\n",
       "       [ 48, 231,  29, ...,  90,  48,  98]], dtype=int64)"
      ]
     },
     "execution_count": 22,
     "metadata": {},
     "output_type": "execute_result"
    },
    {
     "data": {
      "text/plain": [
       "array([[  0,   0,   0, ...,  24,  27,  34],\n",
       "       [  0,   0,   0, ...,  32,  33, 123],\n",
       "       [  0,   0,   0, ...,  29,  36,  68],\n",
       "       [  0,   0,   0, ...,  38,  51,  53],\n",
       "       [  0,   0,   0, ...,  42,  43,  54]], dtype=int64)"
      ]
     },
     "execution_count": 22,
     "metadata": {},
     "output_type": "execute_result"
    },
    {
     "data": {
      "text/plain": [
       "array([[  0,   0,   0, ...,  23,  32,  42],\n",
       "       [  0,   0,   0, ...,  60, 119, 266],\n",
       "       [  0,   0,   0, ...,  14,  18,  21],\n",
       "       ...,\n",
       "       [  0,   0,   0, ...,  43,  43,  78],\n",
       "       [  0,   0,   0, ...,  32,  33, 765],\n",
       "       [  0,   0,   0, ...,  15,  24,  54]], dtype=int64)"
      ]
     },
     "execution_count": 22,
     "metadata": {},
     "output_type": "execute_result"
    }
   ],
   "source": [
    "#Checking feature array contents\n",
    "\n",
    "np.sort(data_features_c.sum(axis=1))[:5]\n",
    "np.sort(data_features_c.sum(axis=1))[3995:]\n",
    "np.sort(data_features_c.sum(axis=0))[:5]\n",
    "np.sort(data_features_c.sum(axis=0))[3995:]\n",
    "np.sort(data_features_c,axis=0)[:5]\n",
    "np.sort(data_features_c,axis=0)[3995:]\n",
    "np.sort(data_features_c,axis=1)[:5]\n",
    "np.sort(data_features_c,axis=1)[3995:]"
   ]
  },
  {
   "cell_type": "code",
   "execution_count": 23,
   "id": "85d9adae",
   "metadata": {},
   "outputs": [
    {
     "data": {
      "text/plain": [
       "(8411, 3000)"
      ]
     },
     "execution_count": 23,
     "metadata": {},
     "output_type": "execute_result"
    }
   ],
   "source": [
    "#I now run the Tfidf vectorizer with the same number of features\n",
    "\n",
    "vectorizer = TfidfVectorizer(stop_words=sw,max_features=n_features)\n",
    "data_features_tf = vectorizer.fit_transform(jw.iloc[:,0])\n",
    "\n",
    "data_features_tf = data_features_tf.toarray()\n",
    "\n",
    "data_features_tf.shape"
   ]
  },
  {
   "cell_type": "code",
   "execution_count": 24,
   "id": "de9ff6b4",
   "metadata": {},
   "outputs": [
    {
     "data": {
      "image/png": "[encoded data removed]",
      "text/plain": [
       "<Figure size 1080x720 with 20 Axes>"
      ]
     },
     "metadata": {},
     "output_type": "display_data"
    }
   ],
   "source": [
    "ax2 = plt.figure(figsize=(15,10))\n",
    "pos = 1\n",
    "for i in range(top):\n",
    "    ax2=plt.subplot(int(top/5), 5, pos)\n",
    "    ax2=plt.scatter(x,y=-np.sort(-data_features_tf[i]), color =\"b\")\n",
    "    pos += 1"
   ]
  },
  {
   "cell_type": "code",
   "execution_count": 25,
   "id": "29c8da33",
   "metadata": {},
   "outputs": [],
   "source": [
    "#Assigning 'views' as the dependent variable.\n",
    "#This is a count variable.\n",
    "\n",
    "y=np.array(jw['views'])"
   ]
  },
  {
   "cell_type": "code",
   "execution_count": 26,
   "id": "731356e8",
   "metadata": {},
   "outputs": [
    {
     "data": {
      "text/plain": [
       "422404.9700392343"
      ]
     },
     "execution_count": 26,
     "metadata": {},
     "output_type": "execute_result"
    },
    {
     "data": {
      "text/plain": [
       "575062576619.0491"
      ]
     },
     "execution_count": 26,
     "metadata": {},
     "output_type": "execute_result"
    }
   ],
   "source": [
    "#The variance of our y variable is much larger than the mean, so at this \n",
    "#stage I am not sure is this is a Poisson variable.\n",
    "\n",
    "#I check this further with a Kolmogorov-Smirnov test in a later step.\n",
    "\n",
    "y_mean = y.mean()\n",
    "y_var = y.var()\n",
    "y_mean\n",
    "y_var"
   ]
  },
  {
   "cell_type": "code",
   "execution_count": 27,
   "id": "d72f3eaf",
   "metadata": {},
   "outputs": [
    {
     "data": {
      "text/plain": [
       "313126.0"
      ]
     },
     "execution_count": 27,
     "metadata": {},
     "output_type": "execute_result"
    }
   ],
   "source": [
    "q3, q1 = np.percentile(y, [75 ,25])\n",
    "iqr = q3 - q1\n",
    "iqr"
   ]
  },
  {
   "cell_type": "code",
   "execution_count": 28,
   "id": "e97ff414",
   "metadata": {},
   "outputs": [
    {
     "data": {
      "text/plain": [
       "{'whiskers': [<matplotlib.lines.Line2D at 0x1c6786cca48>,\n",
       "  <matplotlib.lines.Line2D at 0x1c676e30048>],\n",
       " 'caps': [<matplotlib.lines.Line2D at 0x1c6786cc948>,\n",
       "  <matplotlib.lines.Line2D at 0x1c6786cc8c8>],\n",
       " 'boxes': [<matplotlib.lines.Line2D at 0x1c6786cc3c8>],\n",
       " 'medians': [<matplotlib.lines.Line2D at 0x1c676e30548>],\n",
       " 'fliers': [<matplotlib.lines.Line2D at 0x1c676e30988>],\n",
       " 'means': []}"
      ]
     },
     "execution_count": 28,
     "metadata": {},
     "output_type": "execute_result"
    },
    {
     "data": {
      "image/png": "[encoded data removed]",
      "text/plain": [
       "<Figure size 792x360 with 1 Axes>"
      ]
     },
     "metadata": {},
     "output_type": "display_data"
    }
   ],
   "source": [
    "plt.boxplot(y, notch=None, vert=None, patch_artist=None, widths=None)"
   ]
  },
  {
   "cell_type": "code",
   "execution_count": 29,
   "id": "3d032f07",
   "metadata": {
    "scrolled": true
   },
   "outputs": [
    {
     "data": {
      "text/plain": [
       "1    10190763\n",
       "2     9602104\n",
       "3     8571666\n",
       "4     7788879\n",
       "5     7679480\n",
       "Name: views, dtype: int64"
      ]
     },
     "execution_count": 29,
     "metadata": {},
     "output_type": "execute_result"
    }
   ],
   "source": [
    "#The top 5 observations of y below.\n",
    "\n",
    "#It is obvious that the largest value is a high multiple of the \n",
    "#second largest.\n",
    "\n",
    "jw['views'].sort_values(ascending=False).head()"
   ]
  },
  {
   "cell_type": "code",
   "execution_count": 30,
   "id": "faa63af1",
   "metadata": {},
   "outputs": [
    {
     "data": {
      "text/plain": [
       "<AxesSubplot:>"
      ]
     },
     "execution_count": 30,
     "metadata": {},
     "output_type": "execute_result"
    },
    {
     "data": {
      "image/png": "[encoded data removed]",
      "text/plain": [
       "<Figure size 792x360 with 1 Axes>"
      ]
     },
     "metadata": {},
     "output_type": "display_data"
    }
   ],
   "source": [
    "#The largest observation distorts the graph representation. So\n",
    "#I impute it to the second largest value level, to be able to better \n",
    "#visualize the density.\n",
    "\n",
    "jw['views'].plot()"
   ]
  },
  {
   "cell_type": "code",
   "execution_count": 31,
   "id": "62c68233",
   "metadata": {},
   "outputs": [
    {
     "data": {
      "text/html": [
       "<div>\n",
       "<style scoped>\n",
       "    .dataframe tbody tr th:only-of-type {\n",
       "        vertical-align: middle;\n",
       "    }\n",
       "\n",
       "    .dataframe tbody tr th {\n",
       "        vertical-align: top;\n",
       "    }\n",
       "\n",
       "    .dataframe thead th {\n",
       "        text-align: right;\n",
       "    }\n",
       "</style>\n",
       "<table border=\"1\" class=\"dataframe\">\n",
       "  <thead>\n",
       "    <tr style=\"text-align: right;\">\n",
       "      <th></th>\n",
       "      <th>Poisson</th>\n",
       "    </tr>\n",
       "  </thead>\n",
       "  <tbody>\n",
       "    <tr>\n",
       "      <th>KS Statistic</th>\n",
       "      <td>0.76543</td>\n",
       "    </tr>\n",
       "    <tr>\n",
       "      <th>pvalue</th>\n",
       "      <td>0.00000</td>\n",
       "    </tr>\n",
       "  </tbody>\n",
       "</table>\n",
       "</div>"
      ],
      "text/plain": [
       "              Poisson\n",
       "KS Statistic  0.76543\n",
       "pvalue        0.00000"
      ]
     },
     "execution_count": 31,
     "metadata": {},
     "output_type": "execute_result"
    },
    {
     "data": {
      "text/html": [
       "<div>\n",
       "<style scoped>\n",
       "    .dataframe tbody tr th:only-of-type {\n",
       "        vertical-align: middle;\n",
       "    }\n",
       "\n",
       "    .dataframe tbody tr th {\n",
       "        vertical-align: top;\n",
       "    }\n",
       "\n",
       "    .dataframe thead th {\n",
       "        text-align: right;\n",
       "    }\n",
       "</style>\n",
       "<table border=\"1\" class=\"dataframe\">\n",
       "  <thead>\n",
       "    <tr style=\"text-align: right;\">\n",
       "      <th></th>\n",
       "      <th>0.80</th>\n",
       "      <th>0.90</th>\n",
       "      <th>0.95</th>\n",
       "      <th>0.98</th>\n",
       "      <th>0.99</th>\n",
       "    </tr>\n",
       "  </thead>\n",
       "  <tbody>\n",
       "    <tr>\n",
       "      <th>KS Critical Values Approximations</th>\n",
       "      <td>0.016574</td>\n",
       "      <td>0.018864</td>\n",
       "      <td>0.020935</td>\n",
       "      <td>0.023443</td>\n",
       "      <td>0.025079</td>\n",
       "    </tr>\n",
       "  </tbody>\n",
       "</table>\n",
       "</div>"
      ],
      "text/plain": [
       "                                       0.80      0.90      0.95      0.98  \\\n",
       "KS Critical Values Approximations  0.016574  0.018864  0.020935  0.023443   \n",
       "\n",
       "                                       0.99  \n",
       "KS Critical Values Approximations  0.025079  "
      ]
     },
     "execution_count": 31,
     "metadata": {},
     "output_type": "execute_result"
    }
   ],
   "source": [
    "#The two-sided Smirnov-Kolmogorov test tells us that the distribution of y is \n",
    "#statistically close to a Poisson distribution, as KS _statistic is above the\n",
    "#critical value approximations suggested in \"Advanced Statistics from an\n",
    "#Elementary Point of View\" by Michael Panik (see link below for approximation\n",
    "#table).\n",
    "\n",
    "#http://www.matf.bg.ac.rs/p/files/69-[Michael_J_Panik]_Advanced_Statistics_from_an_Elem(b-ok.xyz)-776-779.pdf\n",
    "\n",
    "obs=jw.shape[0]\n",
    "crit_denom=sqrt(obs)\n",
    "crit_num=np.array([1.52,1.73,1.92,2.15,2.3])\n",
    "lambdaPoisson = y_mean\n",
    "\n",
    "ks_statistic_poisson, p_value_poisson = kstest(y.flatten(), 'poisson', args=(lambdaPoisson,0))\n",
    "\n",
    "array = np.array([ks_statistic_poisson,p_value_poisson])\n",
    "cv=(crit_num/crit_denom).reshape(1,-1)\n",
    "\n",
    "conf=['0.80','0.90','0.95','0.98','0.99']\n",
    "\n",
    "cv_result=pd.DataFrame(data=cv,index=['KS Critical Values Approximations'],columns=conf)\n",
    "\n",
    "result = pd.DataFrame(data=array, index=['KS Statistic','pvalue'],columns=['Poisson'])\n",
    "\n",
    "result\n",
    "cv_result"
   ]
  },
  {
   "cell_type": "code",
   "execution_count": 32,
   "id": "3d7318a7",
   "metadata": {},
   "outputs": [
    {
     "data": {
      "text/plain": [
       "{'whiskers': [<matplotlib.lines.Line2D at 0x1c60304e148>,\n",
       "  <matplotlib.lines.Line2D at 0x1c60304e708>],\n",
       " 'caps': [<matplotlib.lines.Line2D at 0x1c60304e788>,\n",
       "  <matplotlib.lines.Line2D at 0x1c60304e6c8>],\n",
       " 'boxes': [<matplotlib.lines.Line2D at 0x1c603041a88>],\n",
       " 'medians': [<matplotlib.lines.Line2D at 0x1c601e6a548>],\n",
       " 'fliers': [<matplotlib.lines.Line2D at 0x1c601e6aa08>],\n",
       " 'means': []}"
      ]
     },
     "execution_count": 32,
     "metadata": {},
     "output_type": "execute_result"
    },
    {
     "data": {
      "image/png": "[encoded data removed]",
      "text/plain": [
       "<Figure size 792x360 with 1 Axes>"
      ]
     },
     "metadata": {},
     "output_type": "display_data"
    }
   ],
   "source": [
    "plt.boxplot(y, notch=None, vert=None, patch_artist=None, widths=None)"
   ]
  },
  {
   "cell_type": "code",
   "execution_count": 33,
   "id": "ab104d47",
   "metadata": {},
   "outputs": [
    {
     "data": {
      "text/plain": [
       "(8411, 3)"
      ]
     },
     "execution_count": 33,
     "metadata": {},
     "output_type": "execute_result"
    }
   ],
   "source": [
    "jw.shape"
   ]
  },
  {
   "cell_type": "code",
   "execution_count": 34,
   "id": "2a44e248",
   "metadata": {},
   "outputs": [],
   "source": [
    "#I split the countvectorized x variables and our y variable ('data_features_c' and y) \n",
    "#into training and test set using a 70/30% split.\n",
    "\n",
    "X_train_c, X_test_c, y_train, y_test = train_test_split(data_features_c, y, test_size=0.3, random_state=7)"
   ]
  },
  {
   "cell_type": "code",
   "execution_count": 35,
   "id": "b7a1be4b",
   "metadata": {},
   "outputs": [],
   "source": [
    "#Similarly for tfidf vectorized data.\n",
    "\n",
    "X_train_tf, X_test_tf, y_train, y_test = train_test_split(data_features_tf, y, test_size=0.3, random_state=7)"
   ]
  },
  {
   "cell_type": "code",
   "execution_count": 36,
   "id": "1e8ab6dc",
   "metadata": {},
   "outputs": [
    {
     "data": {
      "text/html": [
       "<div>\n",
       "<style scoped>\n",
       "    .dataframe tbody tr th:only-of-type {\n",
       "        vertical-align: middle;\n",
       "    }\n",
       "\n",
       "    .dataframe tbody tr th {\n",
       "        vertical-align: top;\n",
       "    }\n",
       "\n",
       "    .dataframe thead th {\n",
       "        text-align: right;\n",
       "    }\n",
       "</style>\n",
       "<table border=\"1\" class=\"dataframe\">\n",
       "  <thead>\n",
       "    <tr style=\"text-align: right;\">\n",
       "      <th></th>\n",
       "      <th>Model</th>\n",
       "      <th>Score</th>\n",
       "      <th>RMSE train</th>\n",
       "      <th>RMSE test</th>\n",
       "      <th>Correl train</th>\n",
       "      <th>Correl test</th>\n",
       "    </tr>\n",
       "  </thead>\n",
       "  <tbody>\n",
       "    <tr>\n",
       "      <th>0</th>\n",
       "      <td>RF Count Vec</td>\n",
       "      <td>0.740763</td>\n",
       "      <td>388344.524829</td>\n",
       "      <td>808519.953239</td>\n",
       "      <td>0.862864</td>\n",
       "      <td>0.255408</td>\n",
       "    </tr>\n",
       "  </tbody>\n",
       "</table>\n",
       "</div>"
      ],
      "text/plain": [
       "          Model     Score     RMSE train      RMSE test  Correl train  \\\n",
       "0  RF Count Vec  0.740763  388344.524829  808519.953239      0.862864   \n",
       "\n",
       "   Correl test  \n",
       "0     0.255408  "
      ]
     },
     "execution_count": 36,
     "metadata": {},
     "output_type": "execute_result"
    }
   ],
   "source": [
    "#I fit the Random Forest Regressor using 5 esitmators, and Poisson as the\n",
    "#loss criterion with count vectorized data.\n",
    "\n",
    "#Ideally I would have more estimators, but given the high dimensionality,\n",
    "#this would require more computational resources.\n",
    "\n",
    "RFR = RandomForestRegressor(n_estimators=5, criterion=\"poisson\", n_jobs=4, random_state=7)\n",
    "RFR_c = RFR.fit(X_train_c, y_train)\n",
    "y_pred_rf_c_train = RFR_c.predict(X_train_c)\n",
    "y_pred_rf_c_test = RFR_c.predict(X_test_c)\n",
    "\n",
    "result = pd.DataFrame({'Model' : ['RF Count Vec'],\n",
    "                       'Score' : [RFR_c.score(X_train_c,y_train)],\n",
    "                       'RMSE train':[sqrt(mean_squared_error(y_train,y_pred_rf_c_train))],\n",
    "                       'RMSE test':[sqrt(mean_squared_error(y_test,y_pred_rf_c_test))],\n",
    "                       'Correl train':[np.corrcoef(y_train, y_pred_rf_c_train)[0,1]],\n",
    "                       'Correl test':[np.corrcoef(y_test, y_pred_rf_c_test)[0,1]]})\n",
    "result"
   ]
  },
  {
   "cell_type": "code",
   "execution_count": 37,
   "id": "cb476701",
   "metadata": {},
   "outputs": [
    {
     "data": {
      "image/png": "[encoded data removed]",
      "text/plain": [
       "<Figure size 792x360 with 2 Axes>"
      ]
     },
     "metadata": {},
     "output_type": "display_data"
    }
   ],
   "source": [
    "ax=plt.subplot(1, 2, 1)\n",
    "ax=plt.scatter(y_pred_rf_c_train,y_train, color =\"b\")\n",
    "ax=plt.title(\"Train with Count Vec\")\n",
    "ax=plt.xlabel('Predicted Y')\n",
    "ax=plt.ylabel('Observed Y')\n",
    "\n",
    "ax=plt.subplot(1, 2, 2)\n",
    "ax=plt.scatter(y_pred_rf_c_test,y_test, color =\"r\")\n",
    "ax=plt.title(\"Test with Count Vec\")\n",
    "ax=plt.xlabel('Predicted Y')\n",
    "ax=plt.ylabel('Observed Y')\n",
    "\n",
    "plt.show()"
   ]
  },
  {
   "cell_type": "code",
   "execution_count": 38,
   "id": "853f0093",
   "metadata": {},
   "outputs": [
    {
     "data": {
      "text/html": [
       "<div>\n",
       "<style scoped>\n",
       "    .dataframe tbody tr th:only-of-type {\n",
       "        vertical-align: middle;\n",
       "    }\n",
       "\n",
       "    .dataframe tbody tr th {\n",
       "        vertical-align: top;\n",
       "    }\n",
       "\n",
       "    .dataframe thead th {\n",
       "        text-align: right;\n",
       "    }\n",
       "</style>\n",
       "<table border=\"1\" class=\"dataframe\">\n",
       "  <thead>\n",
       "    <tr style=\"text-align: right;\">\n",
       "      <th></th>\n",
       "      <th>Model</th>\n",
       "      <th>Score</th>\n",
       "      <th>RMSE train</th>\n",
       "      <th>RMSE test</th>\n",
       "      <th>Correl train</th>\n",
       "      <th>Correl test</th>\n",
       "    </tr>\n",
       "  </thead>\n",
       "  <tbody>\n",
       "    <tr>\n",
       "      <th>0</th>\n",
       "      <td>RF Count Vec</td>\n",
       "      <td>0.740763</td>\n",
       "      <td>388344.524829</td>\n",
       "      <td>808519.953239</td>\n",
       "      <td>0.862864</td>\n",
       "      <td>0.255408</td>\n",
       "    </tr>\n",
       "    <tr>\n",
       "      <th>1</th>\n",
       "      <td>RFR TFidf</td>\n",
       "      <td>0.713867</td>\n",
       "      <td>407992.789713</td>\n",
       "      <td>855129.259180</td>\n",
       "      <td>0.853702</td>\n",
       "      <td>0.089408</td>\n",
       "    </tr>\n",
       "  </tbody>\n",
       "</table>\n",
       "</div>"
      ],
      "text/plain": [
       "          Model     Score     RMSE train      RMSE test  Correl train  \\\n",
       "0  RF Count Vec  0.740763  388344.524829  808519.953239      0.862864   \n",
       "1     RFR TFidf  0.713867  407992.789713  855129.259180      0.853702   \n",
       "\n",
       "   Correl test  \n",
       "0     0.255408  \n",
       "1     0.089408  "
      ]
     },
     "execution_count": 38,
     "metadata": {},
     "output_type": "execute_result"
    }
   ],
   "source": [
    "#I fit the Random Forest Regressor using 5 esitmators, and Poisson as the \n",
    "#loss criterion and the TFidf vectorized data.\n",
    "\n",
    "RFR_tf = RFR.fit(X_train_tf, y_train)\n",
    "y_pred_rf_tf_train = RFR_tf.predict(X_train_tf)\n",
    "y_pred_rf_tf_test = RFR_tf.predict(X_test_tf)\n",
    "\n",
    "\n",
    "result.loc[1] = ['RFR TFidf',RFR_tf.score(X_train_tf,y_train),\n",
    "                 sqrt(mean_squared_error(y_train,y_pred_rf_tf_train)),\n",
    "                 sqrt(mean_squared_error(y_test,y_pred_rf_tf_test)),\n",
    "                 np.corrcoef(y_train, y_pred_rf_tf_train)[0,1],\n",
    "                 np.corrcoef(y_test, y_pred_rf_tf_test)[0,1]]\n",
    "result"
   ]
  },
  {
   "cell_type": "code",
   "execution_count": 39,
   "id": "04fc5176",
   "metadata": {},
   "outputs": [
    {
     "data": {
      "image/png": "[encoded data removed]",
      "text/plain": [
       "<Figure size 792x360 with 2 Axes>"
      ]
     },
     "metadata": {},
     "output_type": "display_data"
    }
   ],
   "source": [
    "ax=plt.subplot(1, 2, 1)\n",
    "ax=plt.scatter(y_pred_rf_tf_train,y_train, color =\"b\")\n",
    "ax=plt.title(\"Train with TFidf\")\n",
    "ax=plt.xlabel('Predicted Y')\n",
    "ax=plt.ylabel('Observed Y')\n",
    "\n",
    "ax=plt.subplot(1, 2, 2)\n",
    "ax=plt.scatter(y_pred_rf_tf_test,y_test, color =\"r\")\n",
    "ax=plt.title(\"Test with TFidf\")\n",
    "ax=plt.xlabel('Predicted Y')\n",
    "ax=plt.ylabel('Observed Y')\n",
    "\n",
    "plt.show()"
   ]
  },
  {
   "cell_type": "code",
   "execution_count": 40,
   "id": "457e31d9",
   "metadata": {},
   "outputs": [
    {
     "data": {
      "text/html": [
       "<div>\n",
       "<style scoped>\n",
       "    .dataframe tbody tr th:only-of-type {\n",
       "        vertical-align: middle;\n",
       "    }\n",
       "\n",
       "    .dataframe tbody tr th {\n",
       "        vertical-align: top;\n",
       "    }\n",
       "\n",
       "    .dataframe thead th {\n",
       "        text-align: right;\n",
       "    }\n",
       "</style>\n",
       "<table border=\"1\" class=\"dataframe\">\n",
       "  <thead>\n",
       "    <tr style=\"text-align: right;\">\n",
       "      <th></th>\n",
       "      <th>Model</th>\n",
       "      <th>Score</th>\n",
       "      <th>RMSE train</th>\n",
       "      <th>RMSE test</th>\n",
       "      <th>Correl train</th>\n",
       "      <th>Correl test</th>\n",
       "    </tr>\n",
       "  </thead>\n",
       "  <tbody>\n",
       "    <tr>\n",
       "      <th>0</th>\n",
       "      <td>RF Count Vec</td>\n",
       "      <td>0.740763</td>\n",
       "      <td>388344.524829</td>\n",
       "      <td>808519.953239</td>\n",
       "      <td>0.862864</td>\n",
       "      <td>0.255408</td>\n",
       "    </tr>\n",
       "    <tr>\n",
       "      <th>1</th>\n",
       "      <td>RFR TFidf</td>\n",
       "      <td>0.713867</td>\n",
       "      <td>407992.789713</td>\n",
       "      <td>855129.259180</td>\n",
       "      <td>0.853702</td>\n",
       "      <td>0.089408</td>\n",
       "    </tr>\n",
       "    <tr>\n",
       "      <th>2</th>\n",
       "      <td>KNN Count Vec</td>\n",
       "      <td>0.398913</td>\n",
       "      <td>591339.618132</td>\n",
       "      <td>721439.287773</td>\n",
       "      <td>0.656349</td>\n",
       "      <td>0.307511</td>\n",
       "    </tr>\n",
       "  </tbody>\n",
       "</table>\n",
       "</div>"
      ],
      "text/plain": [
       "           Model     Score     RMSE train      RMSE test  Correl train  \\\n",
       "0   RF Count Vec  0.740763  388344.524829  808519.953239      0.862864   \n",
       "1      RFR TFidf  0.713867  407992.789713  855129.259180      0.853702   \n",
       "2  KNN Count Vec  0.398913  591339.618132  721439.287773      0.656349   \n",
       "\n",
       "   Correl test  \n",
       "0     0.255408  \n",
       "1     0.089408  \n",
       "2     0.307511  "
      ]
     },
     "execution_count": 40,
     "metadata": {},
     "output_type": "execute_result"
    }
   ],
   "source": [
    "KNN = KNeighborsRegressor()\n",
    "KNN_c = KNN.fit(X_train_c, y_train)\n",
    "y_pred_knn_c_train = KNN_c.predict(X_train_c)\n",
    "y_pred_knn_c_test = KNN_c.predict(X_test_c)\n",
    "\n",
    "\n",
    "result.loc[2] = ['KNN Count Vec',KNN_c.score(X_train_c,y_train),\n",
    "                 sqrt(mean_squared_error(y_train,y_pred_knn_c_train)),\n",
    "                 sqrt(mean_squared_error(y_test,y_pred_knn_c_test)),\n",
    "                 np.corrcoef(y_train, y_pred_knn_c_train)[0,1],\n",
    "                 np.corrcoef(y_test, y_pred_knn_c_test)[0,1]]\n",
    "result"
   ]
  },
  {
   "cell_type": "code",
   "execution_count": 41,
   "id": "883b6710",
   "metadata": {},
   "outputs": [
    {
     "data": {
      "image/png": "[encoded data removed]",
      "text/plain": [
       "<Figure size 792x360 with 2 Axes>"
      ]
     },
     "metadata": {},
     "output_type": "display_data"
    }
   ],
   "source": [
    "ax=plt.subplot(1, 2, 1)\n",
    "ax=plt.scatter(y_pred_knn_c_train,y_train, color =\"b\")\n",
    "ax=plt.title(\"Train with Count Vec\")\n",
    "ax=plt.xlabel('Predicted Y')\n",
    "ax=plt.ylabel('Observed Y')\n",
    "\n",
    "ax=plt.subplot(1, 2, 2)\n",
    "ax=plt.scatter(y_pred_knn_c_test,y_test, color =\"r\")\n",
    "ax=plt.title(\"Test Count Vec\")\n",
    "ax=plt.xlabel('Predicted Y')\n",
    "ax=plt.ylabel('Observed Y')\n",
    "\n",
    "plt.show()"
   ]
  },
  {
   "cell_type": "code",
   "execution_count": 42,
   "id": "4ae14e4a",
   "metadata": {},
   "outputs": [
    {
     "data": {
      "text/html": [
       "<div>\n",
       "<style scoped>\n",
       "    .dataframe tbody tr th:only-of-type {\n",
       "        vertical-align: middle;\n",
       "    }\n",
       "\n",
       "    .dataframe tbody tr th {\n",
       "        vertical-align: top;\n",
       "    }\n",
       "\n",
       "    .dataframe thead th {\n",
       "        text-align: right;\n",
       "    }\n",
       "</style>\n",
       "<table border=\"1\" class=\"dataframe\">\n",
       "  <thead>\n",
       "    <tr style=\"text-align: right;\">\n",
       "      <th></th>\n",
       "      <th>Model</th>\n",
       "      <th>Score</th>\n",
       "      <th>RMSE train</th>\n",
       "      <th>RMSE test</th>\n",
       "      <th>Correl train</th>\n",
       "      <th>Correl test</th>\n",
       "    </tr>\n",
       "  </thead>\n",
       "  <tbody>\n",
       "    <tr>\n",
       "      <th>0</th>\n",
       "      <td>RF Count Vec</td>\n",
       "      <td>0.740763</td>\n",
       "      <td>388344.524829</td>\n",
       "      <td>808519.953239</td>\n",
       "      <td>0.862864</td>\n",
       "      <td>0.255408</td>\n",
       "    </tr>\n",
       "    <tr>\n",
       "      <th>1</th>\n",
       "      <td>RFR TFidf</td>\n",
       "      <td>0.713867</td>\n",
       "      <td>407992.789713</td>\n",
       "      <td>855129.259180</td>\n",
       "      <td>0.853702</td>\n",
       "      <td>0.089408</td>\n",
       "    </tr>\n",
       "    <tr>\n",
       "      <th>2</th>\n",
       "      <td>KNN Count Vec</td>\n",
       "      <td>0.398913</td>\n",
       "      <td>591339.618132</td>\n",
       "      <td>721439.287773</td>\n",
       "      <td>0.656349</td>\n",
       "      <td>0.307511</td>\n",
       "    </tr>\n",
       "    <tr>\n",
       "      <th>3</th>\n",
       "      <td>KNN TFidf</td>\n",
       "      <td>0.214016</td>\n",
       "      <td>676200.049506</td>\n",
       "      <td>790183.503033</td>\n",
       "      <td>0.498241</td>\n",
       "      <td>0.256738</td>\n",
       "    </tr>\n",
       "  </tbody>\n",
       "</table>\n",
       "</div>"
      ],
      "text/plain": [
       "           Model     Score     RMSE train      RMSE test  Correl train  \\\n",
       "0   RF Count Vec  0.740763  388344.524829  808519.953239      0.862864   \n",
       "1      RFR TFidf  0.713867  407992.789713  855129.259180      0.853702   \n",
       "2  KNN Count Vec  0.398913  591339.618132  721439.287773      0.656349   \n",
       "3      KNN TFidf  0.214016  676200.049506  790183.503033      0.498241   \n",
       "\n",
       "   Correl test  \n",
       "0     0.255408  \n",
       "1     0.089408  \n",
       "2     0.307511  \n",
       "3     0.256738  "
      ]
     },
     "execution_count": 42,
     "metadata": {},
     "output_type": "execute_result"
    }
   ],
   "source": [
    "KNN_tf = KNN.fit(X_train_tf, y_train)\n",
    "y_pred_knn_tf_train = KNN_tf.predict(X_train_tf)\n",
    "y_pred_knn_tf_test = KNN_tf.predict(X_test_tf)\n",
    "\n",
    "\n",
    "result.loc[3] = ['KNN TFidf',KNN_tf.score(X_train_tf,y_train),\n",
    "                 sqrt(mean_squared_error(y_train,y_pred_knn_tf_train)),\n",
    "                 sqrt(mean_squared_error(y_test,y_pred_knn_tf_test)),\n",
    "                 np.corrcoef(y_train, y_pred_knn_tf_train)[0,1],\n",
    "                 np.corrcoef(y_test, y_pred_knn_tf_test)[0,1]]\n",
    "result"
   ]
  },
  {
   "cell_type": "code",
   "execution_count": 43,
   "id": "7ea32781",
   "metadata": {},
   "outputs": [
    {
     "data": {
      "image/png": "[encoded data removed]",
      "text/plain": [
       "<Figure size 792x360 with 2 Axes>"
      ]
     },
     "metadata": {},
     "output_type": "display_data"
    }
   ],
   "source": [
    "ax=plt.subplot(1, 2, 1)\n",
    "ax=plt.scatter(y_pred_knn_tf_train,y_train, color =\"b\")\n",
    "ax=plt.title(\"Train with TFidf\")\n",
    "ax=plt.xlabel('Predicted Y')\n",
    "ax=plt.ylabel('Observed Y')\n",
    "\n",
    "ax=plt.subplot(1, 2, 2)\n",
    "ax=plt.scatter(y_pred_knn_tf_test,y_test, color =\"r\")\n",
    "ax=plt.title(\"Test with TFidf\")\n",
    "ax=plt.xlabel('Predicted Y')\n",
    "ax=plt.ylabel('Observed Y')\n",
    "\n",
    "plt.show()"
   ]
  },
  {
   "cell_type": "code",
   "execution_count": 44,
   "id": "e07a8cb8",
   "metadata": {},
   "outputs": [
    {
     "data": {
      "text/html": [
       "<div>\n",
       "<style scoped>\n",
       "    .dataframe tbody tr th:only-of-type {\n",
       "        vertical-align: middle;\n",
       "    }\n",
       "\n",
       "    .dataframe tbody tr th {\n",
       "        vertical-align: top;\n",
       "    }\n",
       "\n",
       "    .dataframe thead th {\n",
       "        text-align: right;\n",
       "    }\n",
       "</style>\n",
       "<table border=\"1\" class=\"dataframe\">\n",
       "  <thead>\n",
       "    <tr style=\"text-align: right;\">\n",
       "      <th></th>\n",
       "      <th>Model</th>\n",
       "      <th>Score</th>\n",
       "      <th>RMSE train</th>\n",
       "      <th>RMSE test</th>\n",
       "      <th>Correl train</th>\n",
       "      <th>Correl test</th>\n",
       "    </tr>\n",
       "  </thead>\n",
       "  <tbody>\n",
       "    <tr>\n",
       "      <th>0</th>\n",
       "      <td>RF Count Vec</td>\n",
       "      <td>0.740763</td>\n",
       "      <td>388344.524829</td>\n",
       "      <td>808519.953239</td>\n",
       "      <td>0.862864</td>\n",
       "      <td>0.255408</td>\n",
       "    </tr>\n",
       "    <tr>\n",
       "      <th>1</th>\n",
       "      <td>RFR TFidf</td>\n",
       "      <td>0.713867</td>\n",
       "      <td>407992.789713</td>\n",
       "      <td>855129.259180</td>\n",
       "      <td>0.853702</td>\n",
       "      <td>0.089408</td>\n",
       "    </tr>\n",
       "    <tr>\n",
       "      <th>2</th>\n",
       "      <td>KNN Count Vec</td>\n",
       "      <td>0.398913</td>\n",
       "      <td>591339.618132</td>\n",
       "      <td>721439.287773</td>\n",
       "      <td>0.656349</td>\n",
       "      <td>0.307511</td>\n",
       "    </tr>\n",
       "    <tr>\n",
       "      <th>3</th>\n",
       "      <td>KNN TFidf</td>\n",
       "      <td>0.214016</td>\n",
       "      <td>676200.049506</td>\n",
       "      <td>790183.503033</td>\n",
       "      <td>0.498241</td>\n",
       "      <td>0.256738</td>\n",
       "    </tr>\n",
       "    <tr>\n",
       "      <th>4</th>\n",
       "      <td>SVR Count Vec</td>\n",
       "      <td>-0.122866</td>\n",
       "      <td>808225.312665</td>\n",
       "      <td>789618.131840</td>\n",
       "      <td>0.271997</td>\n",
       "      <td>0.245428</td>\n",
       "    </tr>\n",
       "  </tbody>\n",
       "</table>\n",
       "</div>"
      ],
      "text/plain": [
       "           Model     Score     RMSE train      RMSE test  Correl train  \\\n",
       "0   RF Count Vec  0.740763  388344.524829  808519.953239      0.862864   \n",
       "1      RFR TFidf  0.713867  407992.789713  855129.259180      0.853702   \n",
       "2  KNN Count Vec  0.398913  591339.618132  721439.287773      0.656349   \n",
       "3      KNN TFidf  0.214016  676200.049506  790183.503033      0.498241   \n",
       "4  SVR Count Vec -0.122866  808225.312665  789618.131840      0.271997   \n",
       "\n",
       "   Correl test  \n",
       "0     0.255408  \n",
       "1     0.089408  \n",
       "2     0.307511  \n",
       "3     0.256738  \n",
       "4     0.245428  "
      ]
     },
     "execution_count": 44,
     "metadata": {},
     "output_type": "execute_result"
    }
   ],
   "source": [
    "SVR = SVR(C=1.0, epsilon=0.2)\n",
    "SVR_c = SVR.fit(X_train_c, y_train)\n",
    "y_pred_SVR_c_train = SVR_c.predict(X_train_c)\n",
    "y_pred_SVR_c_test = SVR_c.predict(X_test_c)\n",
    "\n",
    "\n",
    "result.loc[4] = ['SVR Count Vec',SVR_c.score(X_train_c,y_train),\n",
    "                 sqrt(mean_squared_error(y_train,y_pred_SVR_c_train)),\n",
    "                 sqrt(mean_squared_error(y_test,y_pred_SVR_c_test)),\n",
    "                 np.corrcoef(y_train, y_pred_SVR_c_train)[0,1],\n",
    "                 np.corrcoef(y_test, y_pred_SVR_c_test)[0,1]]\n",
    "result"
   ]
  },
  {
   "cell_type": "code",
   "execution_count": 45,
   "id": "9a905c9e",
   "metadata": {},
   "outputs": [
    {
     "data": {
      "image/png": "[encoded data removed]",
      "text/plain": [
       "<Figure size 792x360 with 2 Axes>"
      ]
     },
     "metadata": {},
     "output_type": "display_data"
    }
   ],
   "source": [
    "ax=plt.subplot(1, 2, 1)\n",
    "ax=plt.scatter(y_pred_SVR_c_train,y_train, color =\"b\")\n",
    "ax=plt.title(\"Train with Count Vec\")\n",
    "ax=plt.xlabel('Predicted Y')\n",
    "ax=plt.ylabel('Observed Y')\n",
    "\n",
    "ax=plt.subplot(1, 2, 2)\n",
    "ax=plt.scatter(y_pred_SVR_c_test,y_test, color =\"r\")\n",
    "ax=plt.title(\"Test with Count Vec\")\n",
    "ax=plt.xlabel('Predicted Y')\n",
    "ax=plt.ylabel('Observed Y')\n",
    "\n",
    "plt.show()"
   ]
  },
  {
   "cell_type": "code",
   "execution_count": 46,
   "id": "9f365279",
   "metadata": {},
   "outputs": [
    {
     "data": {
      "text/html": [
       "<div>\n",
       "<style scoped>\n",
       "    .dataframe tbody tr th:only-of-type {\n",
       "        vertical-align: middle;\n",
       "    }\n",
       "\n",
       "    .dataframe tbody tr th {\n",
       "        vertical-align: top;\n",
       "    }\n",
       "\n",
       "    .dataframe thead th {\n",
       "        text-align: right;\n",
       "    }\n",
       "</style>\n",
       "<table border=\"1\" class=\"dataframe\">\n",
       "  <thead>\n",
       "    <tr style=\"text-align: right;\">\n",
       "      <th></th>\n",
       "      <th>Model</th>\n",
       "      <th>Score</th>\n",
       "      <th>RMSE train</th>\n",
       "      <th>RMSE test</th>\n",
       "      <th>Correl train</th>\n",
       "      <th>Correl test</th>\n",
       "    </tr>\n",
       "  </thead>\n",
       "  <tbody>\n",
       "    <tr>\n",
       "      <th>0</th>\n",
       "      <td>RF Count Vec</td>\n",
       "      <td>0.740763</td>\n",
       "      <td>388344.524829</td>\n",
       "      <td>808519.953239</td>\n",
       "      <td>0.862864</td>\n",
       "      <td>0.255408</td>\n",
       "    </tr>\n",
       "    <tr>\n",
       "      <th>1</th>\n",
       "      <td>RFR TFidf</td>\n",
       "      <td>0.713867</td>\n",
       "      <td>407992.789713</td>\n",
       "      <td>855129.259180</td>\n",
       "      <td>0.853702</td>\n",
       "      <td>0.089408</td>\n",
       "    </tr>\n",
       "    <tr>\n",
       "      <th>2</th>\n",
       "      <td>KNN Count Vec</td>\n",
       "      <td>0.398913</td>\n",
       "      <td>591339.618132</td>\n",
       "      <td>721439.287773</td>\n",
       "      <td>0.656349</td>\n",
       "      <td>0.307511</td>\n",
       "    </tr>\n",
       "    <tr>\n",
       "      <th>3</th>\n",
       "      <td>KNN TFidf</td>\n",
       "      <td>0.214016</td>\n",
       "      <td>676200.049506</td>\n",
       "      <td>790183.503033</td>\n",
       "      <td>0.498241</td>\n",
       "      <td>0.256738</td>\n",
       "    </tr>\n",
       "    <tr>\n",
       "      <th>4</th>\n",
       "      <td>SVR Count Vec</td>\n",
       "      <td>-0.122866</td>\n",
       "      <td>808225.312665</td>\n",
       "      <td>789618.131840</td>\n",
       "      <td>0.271997</td>\n",
       "      <td>0.245428</td>\n",
       "    </tr>\n",
       "    <tr>\n",
       "      <th>5</th>\n",
       "      <td>SVR TFidf</td>\n",
       "      <td>-0.122987</td>\n",
       "      <td>808268.916560</td>\n",
       "      <td>789658.802153</td>\n",
       "      <td>0.247885</td>\n",
       "      <td>0.215466</td>\n",
       "    </tr>\n",
       "  </tbody>\n",
       "</table>\n",
       "</div>"
      ],
      "text/plain": [
       "           Model     Score     RMSE train      RMSE test  Correl train  \\\n",
       "0   RF Count Vec  0.740763  388344.524829  808519.953239      0.862864   \n",
       "1      RFR TFidf  0.713867  407992.789713  855129.259180      0.853702   \n",
       "2  KNN Count Vec  0.398913  591339.618132  721439.287773      0.656349   \n",
       "3      KNN TFidf  0.214016  676200.049506  790183.503033      0.498241   \n",
       "4  SVR Count Vec -0.122866  808225.312665  789618.131840      0.271997   \n",
       "5      SVR TFidf -0.122987  808268.916560  789658.802153      0.247885   \n",
       "\n",
       "   Correl test  \n",
       "0     0.255408  \n",
       "1     0.089408  \n",
       "2     0.307511  \n",
       "3     0.256738  \n",
       "4     0.245428  \n",
       "5     0.215466  "
      ]
     },
     "execution_count": 46,
     "metadata": {},
     "output_type": "execute_result"
    }
   ],
   "source": [
    "SVR_tf = SVR.fit(X_train_tf, y_train)\n",
    "y_pred_SVR_tf_train = SVR_tf.predict(X_train_tf)\n",
    "y_pred_SVR_tf_test = SVR_tf.predict(X_test_tf)\n",
    "\n",
    "\n",
    "result.loc[5] = ['SVR TFidf',SVR_tf.score(X_train_tf,y_train),\n",
    "                 sqrt(mean_squared_error(y_train,y_pred_SVR_tf_train)),\n",
    "                 sqrt(mean_squared_error(y_test,y_pred_SVR_tf_test)),\n",
    "                 np.corrcoef(y_train, y_pred_SVR_tf_train)[0,1],\n",
    "                 np.corrcoef(y_test, y_pred_SVR_tf_test)[0,1]]\n",
    "result"
   ]
  },
  {
   "cell_type": "code",
   "execution_count": 47,
   "id": "6cd11bfe",
   "metadata": {},
   "outputs": [
    {
     "data": {
      "image/png": "[encoded data removed]",
      "text/plain": [
       "<Figure size 792x360 with 2 Axes>"
      ]
     },
     "metadata": {},
     "output_type": "display_data"
    }
   ],
   "source": [
    "ax=plt.subplot(1, 2, 1)\n",
    "ax=plt.scatter(y_pred_SVR_tf_train,y_train, color =\"b\")\n",
    "ax=plt.title(\"Train with TFidf\")\n",
    "ax=plt.xlabel('Predicted Y')\n",
    "ax=plt.ylabel('Observed Y')\n",
    "\n",
    "ax=plt.subplot(1, 2, 2)\n",
    "ax=plt.scatter(y_pred_SVR_tf_test,y_test, color =\"r\")\n",
    "ax=plt.title(\"Test with TFidf\")\n",
    "ax=plt.xlabel('Predicted Y')\n",
    "ax=plt.ylabel('Observed Y')\n",
    "\n",
    "plt.show()"
   ]
  },
  {
   "cell_type": "code",
   "execution_count": 48,
   "id": "09b75751",
   "metadata": {},
   "outputs": [
    {
     "ename": "KeyboardInterrupt",
     "evalue": "",
     "output_type": "error",
     "traceback": [
      "\u001b[1;31m---------------------------------------------------------------------------\u001b[0m",
      "\u001b[1;31mKeyboardInterrupt\u001b[0m                         Traceback (most recent call last)",
      "\u001b[1;32m~\\AppData\\Local\\Temp\\ipykernel_19600\\3675451177.py\u001b[0m in \u001b[0;36m<module>\u001b[1;34m\u001b[0m\n\u001b[0;32m      5\u001b[0m \u001b[1;33m\u001b[0m\u001b[0m\n\u001b[0;32m      6\u001b[0m \u001b[0msearch\u001b[0m \u001b[1;33m=\u001b[0m \u001b[0mGridSearchCV\u001b[0m\u001b[1;33m(\u001b[0m\u001b[0mSVR_c\u001b[0m\u001b[1;33m,\u001b[0m \u001b[0mparam_grid\u001b[0m \u001b[1;33m=\u001b[0m \u001b[0mgs_c\u001b[0m\u001b[1;33m,\u001b[0m \u001b[0mcv\u001b[0m \u001b[1;33m=\u001b[0m \u001b[1;36m10\u001b[0m\u001b[1;33m)\u001b[0m\u001b[1;33m\u001b[0m\u001b[1;33m\u001b[0m\u001b[0m\n\u001b[1;32m----> 7\u001b[1;33m \u001b[0msearch\u001b[0m\u001b[1;33m.\u001b[0m\u001b[0mfit\u001b[0m\u001b[1;33m(\u001b[0m\u001b[0mX_train_c\u001b[0m\u001b[1;33m,\u001b[0m \u001b[0my_train\u001b[0m\u001b[1;33m)\u001b[0m\u001b[1;33m\u001b[0m\u001b[1;33m\u001b[0m\u001b[0m\n\u001b[0m",
      "\u001b[1;32m~\\anaconda3\\envs\\torch\\lib\\site-packages\\sklearn\\model_selection\\_search.py\u001b[0m in \u001b[0;36mfit\u001b[1;34m(self, X, y, groups, **fit_params)\u001b[0m\n\u001b[0;32m    889\u001b[0m                 \u001b[1;32mreturn\u001b[0m \u001b[0mresults\u001b[0m\u001b[1;33m\u001b[0m\u001b[1;33m\u001b[0m\u001b[0m\n\u001b[0;32m    890\u001b[0m \u001b[1;33m\u001b[0m\u001b[0m\n\u001b[1;32m--> 891\u001b[1;33m             \u001b[0mself\u001b[0m\u001b[1;33m.\u001b[0m\u001b[0m_run_search\u001b[0m\u001b[1;33m(\u001b[0m\u001b[0mevaluate_candidates\u001b[0m\u001b[1;33m)\u001b[0m\u001b[1;33m\u001b[0m\u001b[1;33m\u001b[0m\u001b[0m\n\u001b[0m\u001b[0;32m    892\u001b[0m \u001b[1;33m\u001b[0m\u001b[0m\n\u001b[0;32m    893\u001b[0m             \u001b[1;31m# multimetric is determined here because in the case of a callable\u001b[0m\u001b[1;33m\u001b[0m\u001b[1;33m\u001b[0m\u001b[1;33m\u001b[0m\u001b[0m\n",
      "\u001b[1;32m~\\anaconda3\\envs\\torch\\lib\\site-packages\\sklearn\\model_selection\\_search.py\u001b[0m in \u001b[0;36m_run_search\u001b[1;34m(self, evaluate_candidates)\u001b[0m\n\u001b[0;32m   1390\u001b[0m     \u001b[1;32mdef\u001b[0m \u001b[0m_run_search\u001b[0m\u001b[1;33m(\u001b[0m\u001b[0mself\u001b[0m\u001b[1;33m,\u001b[0m \u001b[0mevaluate_candidates\u001b[0m\u001b[1;33m)\u001b[0m\u001b[1;33m:\u001b[0m\u001b[1;33m\u001b[0m\u001b[1;33m\u001b[0m\u001b[0m\n\u001b[0;32m   1391\u001b[0m         \u001b[1;34m\"\"\"Search all candidates in param_grid\"\"\"\u001b[0m\u001b[1;33m\u001b[0m\u001b[1;33m\u001b[0m\u001b[0m\n\u001b[1;32m-> 1392\u001b[1;33m         \u001b[0mevaluate_candidates\u001b[0m\u001b[1;33m(\u001b[0m\u001b[0mParameterGrid\u001b[0m\u001b[1;33m(\u001b[0m\u001b[0mself\u001b[0m\u001b[1;33m.\u001b[0m\u001b[0mparam_grid\u001b[0m\u001b[1;33m)\u001b[0m\u001b[1;33m)\u001b[0m\u001b[1;33m\u001b[0m\u001b[1;33m\u001b[0m\u001b[0m\n\u001b[0m\u001b[0;32m   1393\u001b[0m \u001b[1;33m\u001b[0m\u001b[0m\n\u001b[0;32m   1394\u001b[0m \u001b[1;33m\u001b[0m\u001b[0m\n",
      "\u001b[1;32m~\\anaconda3\\envs\\torch\\lib\\site-packages\\sklearn\\model_selection\\_search.py\u001b[0m in \u001b[0;36mevaluate_candidates\u001b[1;34m(candidate_params, cv, more_results)\u001b[0m\n\u001b[0;32m    849\u001b[0m                     )\n\u001b[0;32m    850\u001b[0m                     for (cand_idx, parameters), (split_idx, (train, test)) in product(\n\u001b[1;32m--> 851\u001b[1;33m                         \u001b[0menumerate\u001b[0m\u001b[1;33m(\u001b[0m\u001b[0mcandidate_params\u001b[0m\u001b[1;33m)\u001b[0m\u001b[1;33m,\u001b[0m \u001b[0menumerate\u001b[0m\u001b[1;33m(\u001b[0m\u001b[0mcv\u001b[0m\u001b[1;33m.\u001b[0m\u001b[0msplit\u001b[0m\u001b[1;33m(\u001b[0m\u001b[0mX\u001b[0m\u001b[1;33m,\u001b[0m \u001b[0my\u001b[0m\u001b[1;33m,\u001b[0m \u001b[0mgroups\u001b[0m\u001b[1;33m)\u001b[0m\u001b[1;33m)\u001b[0m\u001b[1;33m\u001b[0m\u001b[1;33m\u001b[0m\u001b[0m\n\u001b[0m\u001b[0;32m    852\u001b[0m                     )\n\u001b[0;32m    853\u001b[0m                 )\n",
      "\u001b[1;32m~\\anaconda3\\envs\\torch\\lib\\site-packages\\joblib\\parallel.py\u001b[0m in \u001b[0;36m__call__\u001b[1;34m(self, iterable)\u001b[0m\n\u001b[0;32m   1044\u001b[0m                 \u001b[0mself\u001b[0m\u001b[1;33m.\u001b[0m\u001b[0m_iterating\u001b[0m \u001b[1;33m=\u001b[0m \u001b[0mself\u001b[0m\u001b[1;33m.\u001b[0m\u001b[0m_original_iterator\u001b[0m \u001b[1;32mis\u001b[0m \u001b[1;32mnot\u001b[0m \u001b[1;32mNone\u001b[0m\u001b[1;33m\u001b[0m\u001b[1;33m\u001b[0m\u001b[0m\n\u001b[0;32m   1045\u001b[0m \u001b[1;33m\u001b[0m\u001b[0m\n\u001b[1;32m-> 1046\u001b[1;33m             \u001b[1;32mwhile\u001b[0m \u001b[0mself\u001b[0m\u001b[1;33m.\u001b[0m\u001b[0mdispatch_one_batch\u001b[0m\u001b[1;33m(\u001b[0m\u001b[0miterator\u001b[0m\u001b[1;33m)\u001b[0m\u001b[1;33m:\u001b[0m\u001b[1;33m\u001b[0m\u001b[1;33m\u001b[0m\u001b[0m\n\u001b[0m\u001b[0;32m   1047\u001b[0m                 \u001b[1;32mpass\u001b[0m\u001b[1;33m\u001b[0m\u001b[1;33m\u001b[0m\u001b[0m\n\u001b[0;32m   1048\u001b[0m \u001b[1;33m\u001b[0m\u001b[0m\n",
      "\u001b[1;32m~\\anaconda3\\envs\\torch\\lib\\site-packages\\joblib\\parallel.py\u001b[0m in \u001b[0;36mdispatch_one_batch\u001b[1;34m(self, iterator)\u001b[0m\n\u001b[0;32m    859\u001b[0m                 \u001b[1;32mreturn\u001b[0m \u001b[1;32mFalse\u001b[0m\u001b[1;33m\u001b[0m\u001b[1;33m\u001b[0m\u001b[0m\n\u001b[0;32m    860\u001b[0m             \u001b[1;32melse\u001b[0m\u001b[1;33m:\u001b[0m\u001b[1;33m\u001b[0m\u001b[1;33m\u001b[0m\u001b[0m\n\u001b[1;32m--> 861\u001b[1;33m                 \u001b[0mself\u001b[0m\u001b[1;33m.\u001b[0m\u001b[0m_dispatch\u001b[0m\u001b[1;33m(\u001b[0m\u001b[0mtasks\u001b[0m\u001b[1;33m)\u001b[0m\u001b[1;33m\u001b[0m\u001b[1;33m\u001b[0m\u001b[0m\n\u001b[0m\u001b[0;32m    862\u001b[0m                 \u001b[1;32mreturn\u001b[0m \u001b[1;32mTrue\u001b[0m\u001b[1;33m\u001b[0m\u001b[1;33m\u001b[0m\u001b[0m\n\u001b[0;32m    863\u001b[0m \u001b[1;33m\u001b[0m\u001b[0m\n",
      "\u001b[1;32m~\\anaconda3\\envs\\torch\\lib\\site-packages\\joblib\\parallel.py\u001b[0m in \u001b[0;36m_dispatch\u001b[1;34m(self, batch)\u001b[0m\n\u001b[0;32m    777\u001b[0m         \u001b[1;32mwith\u001b[0m \u001b[0mself\u001b[0m\u001b[1;33m.\u001b[0m\u001b[0m_lock\u001b[0m\u001b[1;33m:\u001b[0m\u001b[1;33m\u001b[0m\u001b[1;33m\u001b[0m\u001b[0m\n\u001b[0;32m    778\u001b[0m             \u001b[0mjob_idx\u001b[0m \u001b[1;33m=\u001b[0m \u001b[0mlen\u001b[0m\u001b[1;33m(\u001b[0m\u001b[0mself\u001b[0m\u001b[1;33m.\u001b[0m\u001b[0m_jobs\u001b[0m\u001b[1;33m)\u001b[0m\u001b[1;33m\u001b[0m\u001b[1;33m\u001b[0m\u001b[0m\n\u001b[1;32m--> 779\u001b[1;33m             \u001b[0mjob\u001b[0m \u001b[1;33m=\u001b[0m \u001b[0mself\u001b[0m\u001b[1;33m.\u001b[0m\u001b[0m_backend\u001b[0m\u001b[1;33m.\u001b[0m\u001b[0mapply_async\u001b[0m\u001b[1;33m(\u001b[0m\u001b[0mbatch\u001b[0m\u001b[1;33m,\u001b[0m \u001b[0mcallback\u001b[0m\u001b[1;33m=\u001b[0m\u001b[0mcb\u001b[0m\u001b[1;33m)\u001b[0m\u001b[1;33m\u001b[0m\u001b[1;33m\u001b[0m\u001b[0m\n\u001b[0m\u001b[0;32m    780\u001b[0m             \u001b[1;31m# A job can complete so quickly than its callback is\u001b[0m\u001b[1;33m\u001b[0m\u001b[1;33m\u001b[0m\u001b[1;33m\u001b[0m\u001b[0m\n\u001b[0;32m    781\u001b[0m             \u001b[1;31m# called before we get here, causing self._jobs to\u001b[0m\u001b[1;33m\u001b[0m\u001b[1;33m\u001b[0m\u001b[1;33m\u001b[0m\u001b[0m\n",
      "\u001b[1;32m~\\anaconda3\\envs\\torch\\lib\\site-packages\\joblib\\_parallel_backends.py\u001b[0m in \u001b[0;36mapply_async\u001b[1;34m(self, func, callback)\u001b[0m\n\u001b[0;32m    206\u001b[0m     \u001b[1;32mdef\u001b[0m \u001b[0mapply_async\u001b[0m\u001b[1;33m(\u001b[0m\u001b[0mself\u001b[0m\u001b[1;33m,\u001b[0m \u001b[0mfunc\u001b[0m\u001b[1;33m,\u001b[0m \u001b[0mcallback\u001b[0m\u001b[1;33m=\u001b[0m\u001b[1;32mNone\u001b[0m\u001b[1;33m)\u001b[0m\u001b[1;33m:\u001b[0m\u001b[1;33m\u001b[0m\u001b[1;33m\u001b[0m\u001b[0m\n\u001b[0;32m    207\u001b[0m         \u001b[1;34m\"\"\"Schedule a func to be run\"\"\"\u001b[0m\u001b[1;33m\u001b[0m\u001b[1;33m\u001b[0m\u001b[0m\n\u001b[1;32m--> 208\u001b[1;33m         \u001b[0mresult\u001b[0m \u001b[1;33m=\u001b[0m \u001b[0mImmediateResult\u001b[0m\u001b[1;33m(\u001b[0m\u001b[0mfunc\u001b[0m\u001b[1;33m)\u001b[0m\u001b[1;33m\u001b[0m\u001b[1;33m\u001b[0m\u001b[0m\n\u001b[0m\u001b[0;32m    209\u001b[0m         \u001b[1;32mif\u001b[0m \u001b[0mcallback\u001b[0m\u001b[1;33m:\u001b[0m\u001b[1;33m\u001b[0m\u001b[1;33m\u001b[0m\u001b[0m\n\u001b[0;32m    210\u001b[0m             \u001b[0mcallback\u001b[0m\u001b[1;33m(\u001b[0m\u001b[0mresult\u001b[0m\u001b[1;33m)\u001b[0m\u001b[1;33m\u001b[0m\u001b[1;33m\u001b[0m\u001b[0m\n",
      "\u001b[1;32m~\\anaconda3\\envs\\torch\\lib\\site-packages\\joblib\\_parallel_backends.py\u001b[0m in \u001b[0;36m__init__\u001b[1;34m(self, batch)\u001b[0m\n\u001b[0;32m    570\u001b[0m         \u001b[1;31m# Don't delay the application, to avoid keeping the input\u001b[0m\u001b[1;33m\u001b[0m\u001b[1;33m\u001b[0m\u001b[1;33m\u001b[0m\u001b[0m\n\u001b[0;32m    571\u001b[0m         \u001b[1;31m# arguments in memory\u001b[0m\u001b[1;33m\u001b[0m\u001b[1;33m\u001b[0m\u001b[1;33m\u001b[0m\u001b[0m\n\u001b[1;32m--> 572\u001b[1;33m         \u001b[0mself\u001b[0m\u001b[1;33m.\u001b[0m\u001b[0mresults\u001b[0m \u001b[1;33m=\u001b[0m \u001b[0mbatch\u001b[0m\u001b[1;33m(\u001b[0m\u001b[1;33m)\u001b[0m\u001b[1;33m\u001b[0m\u001b[1;33m\u001b[0m\u001b[0m\n\u001b[0m\u001b[0;32m    573\u001b[0m \u001b[1;33m\u001b[0m\u001b[0m\n\u001b[0;32m    574\u001b[0m     \u001b[1;32mdef\u001b[0m \u001b[0mget\u001b[0m\u001b[1;33m(\u001b[0m\u001b[0mself\u001b[0m\u001b[1;33m)\u001b[0m\u001b[1;33m:\u001b[0m\u001b[1;33m\u001b[0m\u001b[1;33m\u001b[0m\u001b[0m\n",
      "\u001b[1;32m~\\anaconda3\\envs\\torch\\lib\\site-packages\\joblib\\parallel.py\u001b[0m in \u001b[0;36m__call__\u001b[1;34m(self)\u001b[0m\n\u001b[0;32m    261\u001b[0m         \u001b[1;32mwith\u001b[0m \u001b[0mparallel_backend\u001b[0m\u001b[1;33m(\u001b[0m\u001b[0mself\u001b[0m\u001b[1;33m.\u001b[0m\u001b[0m_backend\u001b[0m\u001b[1;33m,\u001b[0m \u001b[0mn_jobs\u001b[0m\u001b[1;33m=\u001b[0m\u001b[0mself\u001b[0m\u001b[1;33m.\u001b[0m\u001b[0m_n_jobs\u001b[0m\u001b[1;33m)\u001b[0m\u001b[1;33m:\u001b[0m\u001b[1;33m\u001b[0m\u001b[1;33m\u001b[0m\u001b[0m\n\u001b[0;32m    262\u001b[0m             return [func(*args, **kwargs)\n\u001b[1;32m--> 263\u001b[1;33m                     for func, args, kwargs in self.items]\n\u001b[0m\u001b[0;32m    264\u001b[0m \u001b[1;33m\u001b[0m\u001b[0m\n\u001b[0;32m    265\u001b[0m     \u001b[1;32mdef\u001b[0m \u001b[0m__reduce__\u001b[0m\u001b[1;33m(\u001b[0m\u001b[0mself\u001b[0m\u001b[1;33m)\u001b[0m\u001b[1;33m:\u001b[0m\u001b[1;33m\u001b[0m\u001b[1;33m\u001b[0m\u001b[0m\n",
      "\u001b[1;32m~\\anaconda3\\envs\\torch\\lib\\site-packages\\joblib\\parallel.py\u001b[0m in \u001b[0;36m<listcomp>\u001b[1;34m(.0)\u001b[0m\n\u001b[0;32m    261\u001b[0m         \u001b[1;32mwith\u001b[0m \u001b[0mparallel_backend\u001b[0m\u001b[1;33m(\u001b[0m\u001b[0mself\u001b[0m\u001b[1;33m.\u001b[0m\u001b[0m_backend\u001b[0m\u001b[1;33m,\u001b[0m \u001b[0mn_jobs\u001b[0m\u001b[1;33m=\u001b[0m\u001b[0mself\u001b[0m\u001b[1;33m.\u001b[0m\u001b[0m_n_jobs\u001b[0m\u001b[1;33m)\u001b[0m\u001b[1;33m:\u001b[0m\u001b[1;33m\u001b[0m\u001b[1;33m\u001b[0m\u001b[0m\n\u001b[0;32m    262\u001b[0m             return [func(*args, **kwargs)\n\u001b[1;32m--> 263\u001b[1;33m                     for func, args, kwargs in self.items]\n\u001b[0m\u001b[0;32m    264\u001b[0m \u001b[1;33m\u001b[0m\u001b[0m\n\u001b[0;32m    265\u001b[0m     \u001b[1;32mdef\u001b[0m \u001b[0m__reduce__\u001b[0m\u001b[1;33m(\u001b[0m\u001b[0mself\u001b[0m\u001b[1;33m)\u001b[0m\u001b[1;33m:\u001b[0m\u001b[1;33m\u001b[0m\u001b[1;33m\u001b[0m\u001b[0m\n",
      "\u001b[1;32m~\\anaconda3\\envs\\torch\\lib\\site-packages\\sklearn\\utils\\fixes.py\u001b[0m in \u001b[0;36m__call__\u001b[1;34m(self, *args, **kwargs)\u001b[0m\n\u001b[0;32m    214\u001b[0m     \u001b[1;32mdef\u001b[0m \u001b[0m__call__\u001b[0m\u001b[1;33m(\u001b[0m\u001b[0mself\u001b[0m\u001b[1;33m,\u001b[0m \u001b[1;33m*\u001b[0m\u001b[0margs\u001b[0m\u001b[1;33m,\u001b[0m \u001b[1;33m**\u001b[0m\u001b[0mkwargs\u001b[0m\u001b[1;33m)\u001b[0m\u001b[1;33m:\u001b[0m\u001b[1;33m\u001b[0m\u001b[1;33m\u001b[0m\u001b[0m\n\u001b[0;32m    215\u001b[0m         \u001b[1;32mwith\u001b[0m \u001b[0mconfig_context\u001b[0m\u001b[1;33m(\u001b[0m\u001b[1;33m**\u001b[0m\u001b[0mself\u001b[0m\u001b[1;33m.\u001b[0m\u001b[0mconfig\u001b[0m\u001b[1;33m)\u001b[0m\u001b[1;33m:\u001b[0m\u001b[1;33m\u001b[0m\u001b[1;33m\u001b[0m\u001b[0m\n\u001b[1;32m--> 216\u001b[1;33m             \u001b[1;32mreturn\u001b[0m \u001b[0mself\u001b[0m\u001b[1;33m.\u001b[0m\u001b[0mfunction\u001b[0m\u001b[1;33m(\u001b[0m\u001b[1;33m*\u001b[0m\u001b[0margs\u001b[0m\u001b[1;33m,\u001b[0m \u001b[1;33m**\u001b[0m\u001b[0mkwargs\u001b[0m\u001b[1;33m)\u001b[0m\u001b[1;33m\u001b[0m\u001b[1;33m\u001b[0m\u001b[0m\n\u001b[0m\u001b[0;32m    217\u001b[0m \u001b[1;33m\u001b[0m\u001b[0m\n\u001b[0;32m    218\u001b[0m \u001b[1;33m\u001b[0m\u001b[0m\n",
      "\u001b[1;32m~\\anaconda3\\envs\\torch\\lib\\site-packages\\sklearn\\model_selection\\_validation.py\u001b[0m in \u001b[0;36m_fit_and_score\u001b[1;34m(estimator, X, y, scorer, train, test, verbose, parameters, fit_params, return_train_score, return_parameters, return_n_test_samples, return_times, return_estimator, split_progress, candidate_progress, error_score)\u001b[0m\n\u001b[0;32m    678\u001b[0m             \u001b[0mestimator\u001b[0m\u001b[1;33m.\u001b[0m\u001b[0mfit\u001b[0m\u001b[1;33m(\u001b[0m\u001b[0mX_train\u001b[0m\u001b[1;33m,\u001b[0m \u001b[1;33m**\u001b[0m\u001b[0mfit_params\u001b[0m\u001b[1;33m)\u001b[0m\u001b[1;33m\u001b[0m\u001b[1;33m\u001b[0m\u001b[0m\n\u001b[0;32m    679\u001b[0m         \u001b[1;32melse\u001b[0m\u001b[1;33m:\u001b[0m\u001b[1;33m\u001b[0m\u001b[1;33m\u001b[0m\u001b[0m\n\u001b[1;32m--> 680\u001b[1;33m             \u001b[0mestimator\u001b[0m\u001b[1;33m.\u001b[0m\u001b[0mfit\u001b[0m\u001b[1;33m(\u001b[0m\u001b[0mX_train\u001b[0m\u001b[1;33m,\u001b[0m \u001b[0my_train\u001b[0m\u001b[1;33m,\u001b[0m \u001b[1;33m**\u001b[0m\u001b[0mfit_params\u001b[0m\u001b[1;33m)\u001b[0m\u001b[1;33m\u001b[0m\u001b[1;33m\u001b[0m\u001b[0m\n\u001b[0m\u001b[0;32m    681\u001b[0m \u001b[1;33m\u001b[0m\u001b[0m\n\u001b[0;32m    682\u001b[0m     \u001b[1;32mexcept\u001b[0m \u001b[0mException\u001b[0m\u001b[1;33m:\u001b[0m\u001b[1;33m\u001b[0m\u001b[1;33m\u001b[0m\u001b[0m\n",
      "\u001b[1;32m~\\anaconda3\\envs\\torch\\lib\\site-packages\\sklearn\\svm\\_base.py\u001b[0m in \u001b[0;36mfit\u001b[1;34m(self, X, y, sample_weight)\u001b[0m\n\u001b[0;32m    253\u001b[0m \u001b[1;33m\u001b[0m\u001b[0m\n\u001b[0;32m    254\u001b[0m         \u001b[0mseed\u001b[0m \u001b[1;33m=\u001b[0m \u001b[0mrnd\u001b[0m\u001b[1;33m.\u001b[0m\u001b[0mrandint\u001b[0m\u001b[1;33m(\u001b[0m\u001b[0mnp\u001b[0m\u001b[1;33m.\u001b[0m\u001b[0miinfo\u001b[0m\u001b[1;33m(\u001b[0m\u001b[1;34m\"i\"\u001b[0m\u001b[1;33m)\u001b[0m\u001b[1;33m.\u001b[0m\u001b[0mmax\u001b[0m\u001b[1;33m)\u001b[0m\u001b[1;33m\u001b[0m\u001b[1;33m\u001b[0m\u001b[0m\n\u001b[1;32m--> 255\u001b[1;33m         \u001b[0mfit\u001b[0m\u001b[1;33m(\u001b[0m\u001b[0mX\u001b[0m\u001b[1;33m,\u001b[0m \u001b[0my\u001b[0m\u001b[1;33m,\u001b[0m \u001b[0msample_weight\u001b[0m\u001b[1;33m,\u001b[0m \u001b[0msolver_type\u001b[0m\u001b[1;33m,\u001b[0m \u001b[0mkernel\u001b[0m\u001b[1;33m,\u001b[0m \u001b[0mrandom_seed\u001b[0m\u001b[1;33m=\u001b[0m\u001b[0mseed\u001b[0m\u001b[1;33m)\u001b[0m\u001b[1;33m\u001b[0m\u001b[1;33m\u001b[0m\u001b[0m\n\u001b[0m\u001b[0;32m    256\u001b[0m         \u001b[1;31m# see comment on the other call to np.iinfo in this file\u001b[0m\u001b[1;33m\u001b[0m\u001b[1;33m\u001b[0m\u001b[1;33m\u001b[0m\u001b[0m\n\u001b[0;32m    257\u001b[0m \u001b[1;33m\u001b[0m\u001b[0m\n",
      "\u001b[1;32m~\\anaconda3\\envs\\torch\\lib\\site-packages\\sklearn\\svm\\_base.py\u001b[0m in \u001b[0;36m_dense_fit\u001b[1;34m(self, X, y, sample_weight, solver_type, kernel, random_seed)\u001b[0m\n\u001b[0;32m    331\u001b[0m             \u001b[0mepsilon\u001b[0m\u001b[1;33m=\u001b[0m\u001b[0mself\u001b[0m\u001b[1;33m.\u001b[0m\u001b[0mepsilon\u001b[0m\u001b[1;33m,\u001b[0m\u001b[1;33m\u001b[0m\u001b[1;33m\u001b[0m\u001b[0m\n\u001b[0;32m    332\u001b[0m             \u001b[0mmax_iter\u001b[0m\u001b[1;33m=\u001b[0m\u001b[0mself\u001b[0m\u001b[1;33m.\u001b[0m\u001b[0mmax_iter\u001b[0m\u001b[1;33m,\u001b[0m\u001b[1;33m\u001b[0m\u001b[1;33m\u001b[0m\u001b[0m\n\u001b[1;32m--> 333\u001b[1;33m             \u001b[0mrandom_seed\u001b[0m\u001b[1;33m=\u001b[0m\u001b[0mrandom_seed\u001b[0m\u001b[1;33m,\u001b[0m\u001b[1;33m\u001b[0m\u001b[1;33m\u001b[0m\u001b[0m\n\u001b[0m\u001b[0;32m    334\u001b[0m         )\n\u001b[0;32m    335\u001b[0m \u001b[1;33m\u001b[0m\u001b[0m\n",
      "\u001b[1;32msklearn\\svm\\_libsvm.pyx\u001b[0m in \u001b[0;36msklearn.svm._libsvm.fit\u001b[1;34m()\u001b[0m\n",
      "\u001b[1;31mKeyboardInterrupt\u001b[0m: "
     ]
    }
   ],
   "source": [
    "gs_c = {  'C': [0.01, 0.05, 0.5, 1],\n",
    "        'epsilon': [0.05, 0.1, 0.2],\n",
    "        'kernel': ['rbf', 'poly']\n",
    "        }\n",
    "\n",
    "search = GridSearchCV(SVR_c, param_grid = gs_c, cv = 10)\n",
    "search.fit(X_train_c, y_train)"
   ]
  },
  {
   "cell_type": "code",
   "execution_count": null,
   "id": "dc06dd3e",
   "metadata": {},
   "outputs": [],
   "source": [
    "search.best_params_"
   ]
  },
  {
   "cell_type": "code",
   "execution_count": null,
   "id": "64ea2866",
   "metadata": {},
   "outputs": [],
   "source": [
    "SVR_gs = SVR(C=1.0, epsilon=0.1,kernel='poly')\n",
    "SVR_gs_c = SVR_gs.fit(X_train_c, y_train)\n",
    "y_pred_SVR_gs_c_train = SVR_gs_c.predict(X_train_c)\n",
    "y_pred_SVR_gs_c_test = SVR_gs_c.predict(X_test_c)\n",
    "\n",
    "\n",
    "result.loc[6] = ['SVR GS Count Vec',SVR_gs_c.score(X_train_c,y_train),\n",
    "                 sqrt(mean_squared_error(y_train,y_pred_SVR_gs_c_train)),\n",
    "                 sqrt(mean_squared_error(y_test,y_pred_SVR_gs_c_test)),\n",
    "                 np.corrcoef(y_train, y_pred_SVR_gs_c_train)[0,1],\n",
    "                 np.corrcoef(y_test, y_pred_SVR_gs_c_test)[0,1]]\n",
    "result"
   ]
  },
  {
   "cell_type": "code",
   "execution_count": null,
   "id": "c27eb6b7",
   "metadata": {},
   "outputs": [],
   "source": [
    "ax=plt.subplot(1, 2, 1)\n",
    "ax=plt.scatter(y_pred_SVR_gs_c_train,y_train, color =\"b\")\n",
    "ax=plt.title(\"Train with Count Vec\")\n",
    "ax=plt.xlabel('Predicted Y')\n",
    "ax=plt.ylabel('Observed Y')\n",
    "\n",
    "ax=plt.subplot(1, 2, 2)\n",
    "ax=plt.scatter(y_pred_SVR_gs_c_test,y_test, color =\"r\")\n",
    "ax=plt.title(\"Test with Count Vec\")\n",
    "ax=plt.xlabel('Predicted Y')\n",
    "ax=plt.ylabel('Observed Y')\n",
    "\n",
    "plt.show()"
   ]
  },
  {
   "cell_type": "code",
   "execution_count": null,
   "id": "104b85ed",
   "metadata": {},
   "outputs": [],
   "source": [
    "gs_tf = {  'C': [0.01, 0.05, 0.5, 1],\n",
    "        'epsilon': [0.05, 0.1, 0.2],\n",
    "        'kernel': ['rbf', 'poly']\n",
    "        }\n",
    "\n",
    "search = GridSearchCV(SVR_tf, param_grid = gs_tf, cv = 10)\n",
    "search.fit(X_train_tf, y_train)"
   ]
  },
  {
   "cell_type": "code",
   "execution_count": null,
   "id": "9a2b565c",
   "metadata": {},
   "outputs": [],
   "source": [
    "search.best_params_"
   ]
  },
  {
   "cell_type": "code",
   "execution_count": null,
   "id": "12ae43f6",
   "metadata": {},
   "outputs": [],
   "source": [
    "SVR_gs = SVR(C=1.0, epsilon=0.05,kernel='poly')\n",
    "SVR_gs_tf = SVR_gs.fit(X_train_tf, y_train)\n",
    "y_pred_SVR_gs_tf_train = SVR_gs_tf.predict(X_train_tf)\n",
    "y_pred_SVR_gs_tf_test = SVR_gs_tf.predict(X_test_tf)\n",
    "\n",
    "\n",
    "result.loc[7] = ['SVR GS TFidf',SVR_gs_tf.score(X_train_tf,y_train),\n",
    "                 sqrt(mean_squared_error(y_train,y_pred_SVR_gs_tf_train)),\n",
    "                 sqrt(mean_squared_error(y_test,y_pred_SVR_gs_tf_test)),\n",
    "                 np.corrcoef(y_train, y_pred_SVR_gs_tf_train)[0,1],\n",
    "                 np.corrcoef(y_test, y_pred_SVR_gs_tf_test)[0,1]]\n",
    "result"
   ]
  },
  {
   "cell_type": "code",
   "execution_count": null,
   "id": "2171a7e0",
   "metadata": {},
   "outputs": [],
   "source": [
    "ax=plt.subplot(1, 2, 1)\n",
    "ax=plt.scatter(y_pred_SVR_gs_tf_train,y_train, color =\"b\")\n",
    "ax=plt.title(\"Train with TFidf\")\n",
    "ax=plt.xlabel('Predicted Y')\n",
    "ax=plt.ylabel('Observed Y')\n",
    "\n",
    "ax=plt.subplot(1, 2, 2)\n",
    "ax=plt.scatter(y_pred_SVR_gs_tf_test,y_test, color =\"r\")\n",
    "ax=plt.title(\"Test with TFidf\")\n",
    "ax=plt.xlabel('Predicted Y')\n",
    "ax=plt.ylabel('Observed Y')\n",
    "\n",
    "plt.show()"
   ]
  },
  {
   "cell_type": "code",
   "execution_count": null,
   "id": "b462de6d",
   "metadata": {},
   "outputs": [],
   "source": []
  }
 ],
 "metadata": {
  "kernelspec": {
   "display_name": "Python 3 (ipykernel)",
   "language": "python",
   "name": "python3"
  },
  "language_info": {
   "codemirror_mode": {
    "name": "ipython",
    "version": 3
   },
   "file_extension": ".py",
   "mimetype": "text/x-python",
   "name": "python",
   "nbconvert_exporter": "python",
   "pygments_lexer": "ipython3",
   "version": "3.7.13"
  }
 },
 "nbformat": 4,
 "nbformat_minor": 5
}

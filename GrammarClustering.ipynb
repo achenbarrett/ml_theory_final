{
 "cells": [
  {
   "cell_type": "markdown",
   "id": "8ebf1950",
   "metadata": {},
   "source": [
    "# Imports"
   ]
  },
  {
   "cell_type": "code",
   "execution_count": 7,
   "id": "629b2912",
   "metadata": {},
   "outputs": [],
   "source": [
    "import numpy as np\n",
    "import pandas as pd\n",
    "import matplotlib\n",
    "import matplotlib.pyplot as plt\n",
    "import nagisa\n",
    "from sklearn.ensemble import RandomTreesEmbedding\n",
    "from sklearn.cluster import KMeans\n",
    "from sklearn.pipeline import make_pipeline\n",
    "from sklearn.decomposition import TruncatedSVD"
   ]
  },
  {
   "cell_type": "markdown",
   "id": "37419629",
   "metadata": {},
   "source": [
    "## Read in and process data"
   ]
  },
  {
   "cell_type": "code",
   "execution_count": 2,
   "id": "4f1b8a3c",
   "metadata": {
    "scrolled": true
   },
   "outputs": [
    {
     "data": {
      "text/html": [
       "<div>\n",
       "<style scoped>\n",
       "    .dataframe tbody tr th:only-of-type {\n",
       "        vertical-align: middle;\n",
       "    }\n",
       "\n",
       "    .dataframe tbody tr th {\n",
       "        vertical-align: top;\n",
       "    }\n",
       "\n",
       "    .dataframe thead th {\n",
       "        text-align: right;\n",
       "    }\n",
       "</style>\n",
       "<table border=\"1\" class=\"dataframe\">\n",
       "  <thead>\n",
       "    <tr style=\"text-align: right;\">\n",
       "      <th></th>\n",
       "      <th>article</th>\n",
       "      <th>views</th>\n",
       "      <th>text</th>\n",
       "    </tr>\n",
       "  </thead>\n",
       "  <tbody>\n",
       "    <tr>\n",
       "      <th>0</th>\n",
       "      <td>メインページ</td>\n",
       "      <td>362562853</td>\n",
       "      <td>ようこそ\\nウィキペディア - ウィキペディア日本語版 - 百科事典目次\\n検索資料・ポータ...</td>\n",
       "    </tr>\n",
       "    <tr>\n",
       "      <th>1</th>\n",
       "      <td>星野源</td>\n",
       "      <td>10190763</td>\n",
       "      <td>星野 源（ほしの みなもと、1981年1月28日 - ）は、日本の音楽家、俳優、文筆家。埼玉...</td>\n",
       "    </tr>\n",
       "    <tr>\n",
       "      <th>2</th>\n",
       "      <td>真田信繁</td>\n",
       "      <td>9602104</td>\n",
       "      <td>真田 信繁（さなだ のぶしげ）は、安土桃山時代から江戸時代初期にかけての武将、大名。真田昌幸...</td>\n",
       "    </tr>\n",
       "    <tr>\n",
       "      <th>3</th>\n",
       "      <td>高橋一生</td>\n",
       "      <td>8571666</td>\n",
       "      <td>高橋 一生（たかはし いっせい、英字表記：Issey Takahashi、1980年12月9...</td>\n",
       "    </tr>\n",
       "    <tr>\n",
       "      <th>4</th>\n",
       "      <td>君の名は。</td>\n",
       "      <td>7788879</td>\n",
       "      <td>『君の名は。』（きみのなは、英: Your Name.）は、2016年に公開された新海誠監督...</td>\n",
       "    </tr>\n",
       "  </tbody>\n",
       "</table>\n",
       "</div>"
      ],
      "text/plain": [
       "  article      views                                               text\n",
       "0  メインページ  362562853  ようこそ\\nウィキペディア - ウィキペディア日本語版 - 百科事典目次\\n検索資料・ポータ...\n",
       "1     星野源   10190763  星野 源（ほしの みなもと、1981年1月28日 - ）は、日本の音楽家、俳優、文筆家。埼玉...\n",
       "2    真田信繁    9602104  真田 信繁（さなだ のぶしげ）は、安土桃山時代から江戸時代初期にかけての武将、大名。真田昌幸...\n",
       "3    高橋一生    8571666  高橋 一生（たかはし いっせい、英字表記：Issey Takahashi、1980年12月9...\n",
       "4   君の名は。    7788879  『君の名は。』（きみのなは、英: Your Name.）は、2016年に公開された新海誠監督..."
      ]
     },
     "execution_count": 2,
     "metadata": {},
     "output_type": "execute_result"
    }
   ],
   "source": [
    "wiki_df = pd.read_pickle('wiki') \n",
    "wiki_df.head()"
   ]
  },
  {
   "cell_type": "code",
   "execution_count": 3,
   "id": "21a34d69",
   "metadata": {},
   "outputs": [],
   "source": [
    "data = np.array(wiki_df['text'])"
   ]
  },
  {
   "cell_type": "markdown",
   "id": "705f13ee",
   "metadata": {},
   "source": [
    "# Text features using Japanese grammar\n",
    "\n",
    "\n",
    "は   wa   topic     (after)\n",
    "が   ga   nontopic  (after)\n",
    "を   o    object    (after)\n",
    "する suru verb      (after)\n",
    "る   ru   verb      (after)\n",
    "な   na   adjective (after)\n",
    "い   i    adjective (after)\n",
    "の   no   adj or loc(before)\n",
    "\n",
    "distance of each of the above\n",
    "\n",
    "start of a sentence\n",
    "end of a sentence"
   ]
  },
  {
   "cell_type": "code",
   "execution_count": null,
   "id": "dd81a84a",
   "metadata": {},
   "outputs": [],
   "source": [
    "# Create a dataframe of the above metrics (distance from grammatical indicators, location in sentence, etc.)\n",
    "article_num = 0\n",
    "features = []\n",
    "for article in data[0:1000]:\n",
    "    sentence_num = 0\n",
    "    for sentence in re.split('\\n|。', article):\n",
    "        cleaned = re.sub('['+'|'.join(list(string.printable))+']','',sentence)\n",
    "        for i in range(len(cleaned)):\n",
    "            wa = cleaned[i:].find('は')\n",
    "            ga = cleaned[i:].find('が')\n",
    "            o = cleaned[i:].find('を')\n",
    "            suru = cleaned[i:].find('する')\n",
    "            ru = cleaned[i:].find('る')\n",
    "            na = cleaned[i:].find('な')\n",
    "            ii = cleaned[i:].find('い')\n",
    "            no = cleaned[(len(cleaned)-i)::-1].find('の')\n",
    "            if i==0: \n",
    "                start_of_sentence = 1\n",
    "            else:\n",
    "                start_of_sentence = 0\n",
    "            if i==len(cleaned):\n",
    "                end_of_sentence = 1\n",
    "            else:\n",
    "                end_of_sentence = 0\n",
    "            char_data = [cleaned[i], article_num, sentence_num, wa, ga, o, suru, ru, na, ii, no, start_of_sentence, end_of_sentence]\n",
    "            features.append(char_data)\n",
    "        sentence_num += 1\n",
    "    article_num += 1"
   ]
  },
  {
   "cell_type": "code",
   "execution_count": null,
   "id": "7e821a76",
   "metadata": {},
   "outputs": [],
   "source": [
    "df = pd.DataFrame(features)"
   ]
  },
  {
   "cell_type": "code",
   "execution_count": null,
   "id": "1407d1bd",
   "metadata": {},
   "outputs": [],
   "source": [
    "df.columns = ['character','articleNumber','sentenceNumber','wa','ga','o','suru','ru','na','ii','no','startSentence','endSentence']"
   ]
  },
  {
   "cell_type": "code",
   "execution_count": null,
   "id": "5b14c0a0",
   "metadata": {},
   "outputs": [],
   "source": [
    "df.to_pickle('grammarfeatures.pkl')"
   ]
  },
  {
   "cell_type": "code",
   "execution_count": 4,
   "id": "5bae4e2f",
   "metadata": {},
   "outputs": [],
   "source": [
    "df = pd.read_pickle('grammarfeatures.pkl')"
   ]
  },
  {
   "cell_type": "code",
   "execution_count": 5,
   "id": "2f889a37",
   "metadata": {},
   "outputs": [
    {
     "data": {
      "text/html": [
       "<div>\n",
       "<style scoped>\n",
       "    .dataframe tbody tr th:only-of-type {\n",
       "        vertical-align: middle;\n",
       "    }\n",
       "\n",
       "    .dataframe tbody tr th {\n",
       "        vertical-align: top;\n",
       "    }\n",
       "\n",
       "    .dataframe thead th {\n",
       "        text-align: right;\n",
       "    }\n",
       "</style>\n",
       "<table border=\"1\" class=\"dataframe\">\n",
       "  <thead>\n",
       "    <tr style=\"text-align: right;\">\n",
       "      <th></th>\n",
       "      <th>character</th>\n",
       "      <th>articleNumber</th>\n",
       "      <th>sentenceNumber</th>\n",
       "      <th>wa</th>\n",
       "      <th>ga</th>\n",
       "      <th>o</th>\n",
       "      <th>suru</th>\n",
       "      <th>ru</th>\n",
       "      <th>na</th>\n",
       "      <th>ii</th>\n",
       "      <th>no</th>\n",
       "      <th>startSentence</th>\n",
       "      <th>endSentence</th>\n",
       "    </tr>\n",
       "  </thead>\n",
       "  <tbody>\n",
       "    <tr>\n",
       "      <th>0</th>\n",
       "      <td>よ</td>\n",
       "      <td>0</td>\n",
       "      <td>0</td>\n",
       "      <td>-1</td>\n",
       "      <td>-1</td>\n",
       "      <td>-1</td>\n",
       "      <td>-1</td>\n",
       "      <td>-1</td>\n",
       "      <td>-1</td>\n",
       "      <td>-1</td>\n",
       "      <td>-1</td>\n",
       "      <td>1</td>\n",
       "      <td>0</td>\n",
       "    </tr>\n",
       "    <tr>\n",
       "      <th>1</th>\n",
       "      <td>う</td>\n",
       "      <td>0</td>\n",
       "      <td>0</td>\n",
       "      <td>-1</td>\n",
       "      <td>-1</td>\n",
       "      <td>-1</td>\n",
       "      <td>-1</td>\n",
       "      <td>-1</td>\n",
       "      <td>-1</td>\n",
       "      <td>-1</td>\n",
       "      <td>-1</td>\n",
       "      <td>0</td>\n",
       "      <td>0</td>\n",
       "    </tr>\n",
       "    <tr>\n",
       "      <th>2</th>\n",
       "      <td>こ</td>\n",
       "      <td>0</td>\n",
       "      <td>0</td>\n",
       "      <td>-1</td>\n",
       "      <td>-1</td>\n",
       "      <td>-1</td>\n",
       "      <td>-1</td>\n",
       "      <td>-1</td>\n",
       "      <td>-1</td>\n",
       "      <td>-1</td>\n",
       "      <td>-1</td>\n",
       "      <td>0</td>\n",
       "      <td>0</td>\n",
       "    </tr>\n",
       "    <tr>\n",
       "      <th>3</th>\n",
       "      <td>そ</td>\n",
       "      <td>0</td>\n",
       "      <td>0</td>\n",
       "      <td>-1</td>\n",
       "      <td>-1</td>\n",
       "      <td>-1</td>\n",
       "      <td>-1</td>\n",
       "      <td>-1</td>\n",
       "      <td>-1</td>\n",
       "      <td>-1</td>\n",
       "      <td>-1</td>\n",
       "      <td>0</td>\n",
       "      <td>0</td>\n",
       "    </tr>\n",
       "    <tr>\n",
       "      <th>4</th>\n",
       "      <td>ウ</td>\n",
       "      <td>0</td>\n",
       "      <td>1</td>\n",
       "      <td>-1</td>\n",
       "      <td>-1</td>\n",
       "      <td>-1</td>\n",
       "      <td>-1</td>\n",
       "      <td>-1</td>\n",
       "      <td>-1</td>\n",
       "      <td>-1</td>\n",
       "      <td>-1</td>\n",
       "      <td>1</td>\n",
       "      <td>0</td>\n",
       "    </tr>\n",
       "    <tr>\n",
       "      <th>...</th>\n",
       "      <td>...</td>\n",
       "      <td>...</td>\n",
       "      <td>...</td>\n",
       "      <td>...</td>\n",
       "      <td>...</td>\n",
       "      <td>...</td>\n",
       "      <td>...</td>\n",
       "      <td>...</td>\n",
       "      <td>...</td>\n",
       "      <td>...</td>\n",
       "      <td>...</td>\n",
       "      <td>...</td>\n",
       "      <td>...</td>\n",
       "    </tr>\n",
       "    <tr>\n",
       "      <th>16397896</th>\n",
       "      <td>月</td>\n",
       "      <td>999</td>\n",
       "      <td>122</td>\n",
       "      <td>-1</td>\n",
       "      <td>-1</td>\n",
       "      <td>-1</td>\n",
       "      <td>-1</td>\n",
       "      <td>-1</td>\n",
       "      <td>-1</td>\n",
       "      <td>-1</td>\n",
       "      <td>-1</td>\n",
       "      <td>0</td>\n",
       "      <td>0</td>\n",
       "    </tr>\n",
       "    <tr>\n",
       "      <th>16397897</th>\n",
       "      <td>日</td>\n",
       "      <td>999</td>\n",
       "      <td>122</td>\n",
       "      <td>-1</td>\n",
       "      <td>-1</td>\n",
       "      <td>-1</td>\n",
       "      <td>-1</td>\n",
       "      <td>-1</td>\n",
       "      <td>-1</td>\n",
       "      <td>-1</td>\n",
       "      <td>-1</td>\n",
       "      <td>0</td>\n",
       "      <td>0</td>\n",
       "    </tr>\n",
       "    <tr>\n",
       "      <th>16397898</th>\n",
       "      <td>森</td>\n",
       "      <td>999</td>\n",
       "      <td>123</td>\n",
       "      <td>-1</td>\n",
       "      <td>-1</td>\n",
       "      <td>-1</td>\n",
       "      <td>-1</td>\n",
       "      <td>-1</td>\n",
       "      <td>-1</td>\n",
       "      <td>-1</td>\n",
       "      <td>-1</td>\n",
       "      <td>1</td>\n",
       "      <td>0</td>\n",
       "    </tr>\n",
       "    <tr>\n",
       "      <th>16397899</th>\n",
       "      <td>泉</td>\n",
       "      <td>999</td>\n",
       "      <td>123</td>\n",
       "      <td>-1</td>\n",
       "      <td>-1</td>\n",
       "      <td>-1</td>\n",
       "      <td>-1</td>\n",
       "      <td>-1</td>\n",
       "      <td>-1</td>\n",
       "      <td>-1</td>\n",
       "      <td>-1</td>\n",
       "      <td>0</td>\n",
       "      <td>0</td>\n",
       "    </tr>\n",
       "    <tr>\n",
       "      <th>16397900</th>\n",
       "      <td>-</td>\n",
       "      <td>999</td>\n",
       "      <td>123</td>\n",
       "      <td>-1</td>\n",
       "      <td>-1</td>\n",
       "      <td>-1</td>\n",
       "      <td>-1</td>\n",
       "      <td>-1</td>\n",
       "      <td>-1</td>\n",
       "      <td>-1</td>\n",
       "      <td>-1</td>\n",
       "      <td>0</td>\n",
       "      <td>0</td>\n",
       "    </tr>\n",
       "  </tbody>\n",
       "</table>\n",
       "<p>16397901 rows × 13 columns</p>\n",
       "</div>"
      ],
      "text/plain": [
       "         character  articleNumber  sentenceNumber  wa  ga  o  suru  ru  na  \\\n",
       "0                よ              0               0  -1  -1 -1    -1  -1  -1   \n",
       "1                う              0               0  -1  -1 -1    -1  -1  -1   \n",
       "2                こ              0               0  -1  -1 -1    -1  -1  -1   \n",
       "3                そ              0               0  -1  -1 -1    -1  -1  -1   \n",
       "4                ウ              0               1  -1  -1 -1    -1  -1  -1   \n",
       "...            ...            ...             ...  ..  .. ..   ...  ..  ..   \n",
       "16397896         月            999             122  -1  -1 -1    -1  -1  -1   \n",
       "16397897         日            999             122  -1  -1 -1    -1  -1  -1   \n",
       "16397898         森            999             123  -1  -1 -1    -1  -1  -1   \n",
       "16397899         泉            999             123  -1  -1 -1    -1  -1  -1   \n",
       "16397900         -            999             123  -1  -1 -1    -1  -1  -1   \n",
       "\n",
       "          ii  no  startSentence  endSentence  \n",
       "0         -1  -1              1            0  \n",
       "1         -1  -1              0            0  \n",
       "2         -1  -1              0            0  \n",
       "3         -1  -1              0            0  \n",
       "4         -1  -1              1            0  \n",
       "...       ..  ..            ...          ...  \n",
       "16397896  -1  -1              0            0  \n",
       "16397897  -1  -1              0            0  \n",
       "16397898  -1  -1              1            0  \n",
       "16397899  -1  -1              0            0  \n",
       "16397900  -1  -1              0            0  \n",
       "\n",
       "[16397901 rows x 13 columns]"
      ]
     },
     "execution_count": 5,
     "metadata": {},
     "output_type": "execute_result"
    }
   ],
   "source": [
    "df"
   ]
  },
  {
   "cell_type": "markdown",
   "id": "8ce99777",
   "metadata": {},
   "source": [
    "## K-means Clustering"
   ]
  },
  {
   "cell_type": "code",
   "execution_count": 8,
   "id": "6fe780ff",
   "metadata": {},
   "outputs": [
    {
     "data": {
      "text/plain": [
       "KMeans(n_clusters=5)"
      ]
     },
     "execution_count": 8,
     "metadata": {},
     "output_type": "execute_result"
    }
   ],
   "source": [
    "kmeans = KMeans(init=\"k-means++\", n_clusters=5)\n",
    "kmeans.fit(df[['wa','ga','o','suru','ru','na','ii','no','startSentence','endSentence']])"
   ]
  },
  {
   "cell_type": "code",
   "execution_count": 9,
   "id": "b3d16d67",
   "metadata": {},
   "outputs": [],
   "source": [
    "labels = kmeans.predict(df[['wa','ga','o','suru','ru','na','ii','no','startSentence','endSentence']])"
   ]
  },
  {
   "cell_type": "code",
   "execution_count": 10,
   "id": "b1d00691",
   "metadata": {},
   "outputs": [
    {
     "name": "stdout",
     "output_type": "stream",
     "text": [
      "Label: 0\n",
      "['よ', 'う', 'こ', 'そ', 'ウ', 'ィ', 'キ', 'ペ', 'デ', 'ィ', 'ア', '-', 'ウ', 'ィ', 'キ', 'ペ', 'デ', 'ィ', 'ア', '日', '本', '語', '版', '-', '百', '科', '事', '典', '目', '次', '検', '索', '資', '料', '・', 'ポ', 'ー', 'タ', 'ル', '・', 'カ', 'テ', 'ゴ', 'リ', '秀', '逸', 'ピ', 'ッ', 'ク', 'ア', 'ッ', 'プ', '-', '他', 'の', '秀', '逸', '記', '事', 'つ', 'ま', 'み', '読', 'み', '選', '考', '新', 'し', 'い', '記', '事', '-', '投', '票', '新', '着', '新', 'し', 'い', '画', '像', '-', '投', '票', '新', '着', '今', '日', 'は', '何', 'の', '日', '-', 'こ', 'よ', 'み', '-', '季', '節', 'の']\n",
      "\n",
      "\n",
      "Label: 1\n",
      "[]\n",
      "\n",
      "\n",
      "Label: 2\n",
      "[]\n",
      "\n",
      "\n",
      "Label: 3\n",
      "[]\n",
      "\n",
      "\n",
      "Label: 4\n",
      "[]\n",
      "\n",
      "\n"
     ]
    }
   ],
   "source": [
    "for label in range(0,5):\n",
    "    print(\"Label: \" + str(label))\n",
    "    label_indices = [i for i in range(len(labels)) if labels[i]==label]\n",
    "    matching_chars = []\n",
    "    for i in label_indices:\n",
    "        if i < 100:\n",
    "            matching_chars.append(df['character'].iloc[i])\n",
    "        else: break\n",
    "    print(matching_chars)\n",
    "    print(\"\\n\")"
   ]
  },
  {
   "cell_type": "markdown",
   "id": "61ef0fde",
   "metadata": {},
   "source": [
    "## Random Tree Embedding followed by Truncated SVD and K-Means"
   ]
  },
  {
   "cell_type": "code",
   "execution_count": 11,
   "id": "e98ec052",
   "metadata": {},
   "outputs": [],
   "source": [
    "# Use first 100 observations\n",
    "rt = RandomTreesEmbedding().fit(df[['wa','ga','o','suru','ru','na','ii','no','startSentence','endSentence']].iloc[0:100])"
   ]
  },
  {
   "cell_type": "code",
   "execution_count": 12,
   "id": "ca7af2b0",
   "metadata": {},
   "outputs": [
    {
     "data": {
      "text/plain": [
       "(<1x2206 sparse matrix of type '<class 'numpy.int64'>'\n",
       " \twith 532 stored elements in Compressed Sparse Row format>,\n",
       " array([   0,   21,   46,   69,  102,  119,  138,  155,  180,  209,  236,\n",
       "         259,  286,  309,  336,  359,  382,  397,  416,  443,  468,  481,\n",
       "         506,  527,  550,  569,  592,  611,  634,  649,  676,  703,  726,\n",
       "         743,  768,  785,  804,  825,  844,  871,  898,  915,  934,  965,\n",
       "         982,  999, 1026, 1045, 1066, 1095, 1120, 1139, 1158, 1179, 1204,\n",
       "        1223, 1242, 1259, 1280, 1305, 1332, 1357, 1380, 1409, 1426, 1445,\n",
       "        1462, 1481, 1498, 1519, 1538, 1559, 1574, 1597, 1620, 1639, 1658,\n",
       "        1683, 1710, 1725, 1744, 1763, 1788, 1809, 1836, 1851, 1874, 1887,\n",
       "        1906, 1927, 1962, 1985, 2012, 2039, 2062, 2081, 2112, 2133, 2160,\n",
       "        2183, 2206], dtype=int32))"
      ]
     },
     "execution_count": 12,
     "metadata": {},
     "output_type": "execute_result"
    }
   ],
   "source": [
    "# Sample decision path\n",
    "rt.decision_path(df[['wa','ga','o','suru','ru','na','ii','no','startSentence','endSentence']].iloc[0:1])"
   ]
  },
  {
   "cell_type": "code",
   "execution_count": 13,
   "id": "fd6a0d3a",
   "metadata": {},
   "outputs": [],
   "source": [
    "# Create pipeline\n",
    "rt_embedding = make_pipeline(\n",
    "        RandomTreesEmbedding(n_estimators=200, max_depth=5, random_state=0),\n",
    "        TruncatedSVD(n_components=5))"
   ]
  },
  {
   "cell_type": "code",
   "execution_count": 14,
   "id": "3a2f8794",
   "metadata": {},
   "outputs": [],
   "source": [
    "# Fit and transform data\n",
    "transformed = rt_embedding.fit_transform(df[['wa','ga','o','suru','ru','na','ii','no','startSentence','endSentence']].iloc[0:100])"
   ]
  },
  {
   "cell_type": "code",
   "execution_count": 15,
   "id": "4d6a30dc",
   "metadata": {},
   "outputs": [
    {
     "data": {
      "image/png": "[encoded data removed]",
      "text/plain": [
       "<Figure size 432x288 with 1 Axes>"
      ]
     },
     "metadata": {
      "needs_background": "light"
     },
     "output_type": "display_data"
    },
    {
     "data": {
      "image/png": "[encoded data removed]",
      "text/plain": [
       "<Figure size 432x288 with 1 Axes>"
      ]
     },
     "metadata": {
      "needs_background": "light"
     },
     "output_type": "display_data"
    },
    {
     "data": {
      "image/png": "[encoded data removed]",
      "text/plain": [
       "<Figure size 432x288 with 1 Axes>"
      ]
     },
     "metadata": {
      "needs_background": "light"
     },
     "output_type": "display_data"
    }
   ],
   "source": [
    "# Plot sample new data points\n",
    "x = [transformed[i][0] for i in range(len(transformed))]\n",
    "y = [transformed[i][1] for i in range(len(transformed))]\n",
    "z = [transformed[i][2] for i in range(len(transformed))]\n",
    "plt.scatter(x,y)\n",
    "plt.show()\n",
    "plt.scatter(x,z)\n",
    "plt.show()\n",
    "plt.scatter(y,z)\n",
    "plt.show()"
   ]
  },
  {
   "cell_type": "code",
   "execution_count": null,
   "id": "78a3d09c",
   "metadata": {},
   "outputs": [],
   "source": [
    "# K-means clustering"
   ]
  },
  {
   "cell_type": "code",
   "execution_count": 16,
   "id": "6a98b994",
   "metadata": {},
   "outputs": [
    {
     "data": {
      "text/plain": [
       "KMeans(n_clusters=13)"
      ]
     },
     "execution_count": 16,
     "metadata": {},
     "output_type": "execute_result"
    }
   ],
   "source": [
    "kmeans = KMeans(init=\"k-means++\", n_clusters=13)\n",
    "kmeans.fit(transformed)"
   ]
  },
  {
   "cell_type": "code",
   "execution_count": null,
   "id": "e8fc10b8",
   "metadata": {},
   "outputs": [],
   "source": [
    "# Compare output labels to nagisa"
   ]
  },
  {
   "cell_type": "code",
   "execution_count": 17,
   "id": "78548f71",
   "metadata": {},
   "outputs": [],
   "source": [
    "labels = []\n",
    "for i in range(len(transformed)):\n",
    "    labels.append(kmeans.predict(transformed[i].reshape(1, -1))[0])"
   ]
  },
  {
   "cell_type": "code",
   "execution_count": 18,
   "id": "4474deaf",
   "metadata": {},
   "outputs": [
    {
     "name": "stdout",
     "output_type": "stream",
     "text": [
      "[2, 0, 0, 0, 2, 0, 0, 0, 0, 0, 0, 0, 0, 0, 0, 0, 0, 0, 0, 0, 0, 0, 0, 0, 0, 0, 0, 0, 0, 0, 6, 9, 9, 4, 4, 4, 12, 1, 7, 7, 7, 5, 8, 0, 0, 0, 0, 0, 0, 0, 0, 0, 0, 0, 0, 0, 0, 0, 0, 0, 0, 0, 0, 0, 0, 0, 10, 3, 11, 0, 0, 0, 0, 0, 0, 0, 10, 3, 11, 0, 0, 0, 0, 0, 0, 0, 6, 6, 6, 8, 4, 4, 12, 1, 7, 7, 7, 5, 8, 0]\n"
     ]
    }
   ],
   "source": [
    "print(labels)"
   ]
  },
  {
   "cell_type": "code",
   "execution_count": 19,
   "id": "b02799ef",
   "metadata": {},
   "outputs": [
    {
     "name": "stdout",
     "output_type": "stream",
     "text": [
      "['よう', 'こそ', '\\n', 'ウィキペディア', '\\u3000', '-', '\\u3000', 'ウィキペディア', '日本', '語', '版', '\\u3000', '-', '\\u3000', '百', '科', '事典', '目次', '\\n', '検索', '資料', '・', 'ポータル', '・', 'カテゴリ', '秀逸', 'ピックアップ', '\\u3000', '-', '\\u3000', '他', 'の', '秀逸', '記事', '/', 'つまみ', '読み', '/', '選考', '\\n', '新しい', '記事', '\\u3000', '-', '\\u3000', '投票', '/', '新着', '\\n', '新しい', '画像', '\\u3000', '-', '\\u3000', '投票', '/', '新着', '\\n', '今日', 'は', '何', 'の', '日', '\\u3000', '-', '\\u3000', 'こよみ', '\\u3000', '-', '\\u3000', '季節', 'の', '話題', '\\n', '季節', 'の', '画像', '\\u3000', '-', '\\u3000', '投票', 'ガイド', '\\n', '閲覧', '方法', '\\u3000', '-', '\\u3000', '参加', '方法', '\\u3000', '-', '\\u3000', '引用', '方法', '\\n', 'ヘルプ', '\\u3000', '-', '\\u3000', 'FAQ', '\\n', 'ウィキペディア', 'に', '関する', 'お', '問い合わせ', '先', '\\n', 'プレスルーム', 'お', '知ら', 'せ', '\\n', 'コミュニティ', '・', 'ポータル', '\\n', '井戸', '端', '\\u3000', '(', '告知', ')', '\\u3000', '-', '\\u3000', '井戸', '端', '\\n', '記事', 'と', 'は', '\\n', 'アクセス', '統計', '\\u3000', '-', '\\u3000', '日本', '語', '版', 'の', '統計', '\\n', 'For', '\\u3000', 'non', '-', 'Japanese', '-', 'speakers', '\\u3000', '-', '\\u3000', 'Main', '\\u3000', 'Page', '\\u3000', 'for', '\\u3000', 'Japanese', '-', 'learners', '方針', '\\n', '五', '本', 'の', '柱', '\\n', '著作', '権', 'の', '扱い', '\\n', '免責', '事項', 'ウィキメディア', '\\n', 'ウィキメディア', 'の', 'プロジェクト', '色々', 'な', 'メイン', 'ページ', '形式', '\\u3000', '-', '\\u3000', '携帯', '版', 'メイン', 'ページ'] ['形容詞', '助詞', '補助記号', '名詞', '空白', '補助記号', '空白', '名詞', '名詞', '名詞', '名詞', '空白', '補助記号', '空白', '名詞', '接尾辞', '名詞', '名詞', '補助記号', '名詞', '名詞', '補助記号', '名詞', '補助記号', '名詞', '名詞', '名詞', '空白', '補助記号', '空白', '名詞', '助詞', '名詞', '名詞', '補助記号', '名詞', '名詞', '補助記号', '名詞', '補助記号', '形容詞', '名詞', '空白', '補助記号', '空白', '名詞', '補助記号', '名詞', '補助記号', '形容詞', '名詞', '空白', '補助記号', '空白', '名詞', '補助記号', '名詞', '補助記号', '名詞', '助詞', '代名詞', '助詞', '名詞', '空白', '補助記号', '空白', '名詞', '空白', '補助記号', '空白', '名詞', '助詞', '名詞', '補助記号', '名詞', '助詞', '名詞', '空白', '補助記号', '空白', '名詞', '名詞', '補助記号', '名詞', '名詞', '空白', '補助記号', '空白', '名詞', '名詞', '空白', '補助記号', '空白', '名詞', '名詞', '補助記号', '名詞', '空白', '補助記号', '空白', '名詞', '補助記号', '名詞', '助詞', '動詞', '接頭辞', '動詞', '名詞', '補助記号', '名詞', '接頭辞', '動詞', '助動詞', '補助記号', '名詞', '補助記号', '名詞', '補助記号', '名詞', '名詞', '空白', '補助記号', '名詞', '補助記号', '空白', '補助記号', '空白', '名詞', '名詞', '補助記号', '名詞', '助詞', '助詞', '記号', '名詞', '名詞', '空白', '補助記号', '空白', '名詞', '名詞', '名詞', '助詞', '名詞', '補助記号', '英単語', '空白', '英単語', '補助記号', '英単語', '補助記号', '英単語', '空白', '補助記号', '空白', '英単語', '空白', '英単語', '空白', '英単語', '空白', '英単語', '補助記号', '記号', '名詞', '記号', '名詞', '接尾辞', '助詞', '名詞', '補助記号', '名詞', '接尾辞', '助詞', '名詞', '補助記号', '名詞', '名詞', '名詞', '補助記号', '名詞', '助詞', '名詞', '形状詞', '助動詞', '名詞', '名詞', '名詞', '空白', '補助記号', '空白', '名詞', '名詞', '名詞', '名詞']\n"
     ]
    }
   ],
   "source": [
    "test = nagisa.tagging(data[0])\n",
    "print(test.words, test.postags)"
   ]
  },
  {
   "cell_type": "code",
   "execution_count": null,
   "id": "d302d307",
   "metadata": {},
   "outputs": [],
   "source": [
    "# Output comparison\n",
    "\n",
    "# Original word\n",
    "['よう', 'こそ', '\\n', 'ウィキペディア', '\\u3000', '-', '\\u3000', 'ウィキペディア', '日本', '語', '版', '\\u3000', '-', '\\u3000', '百', '科', '事典', '目次', '\\n', '検索', '資料', '・', 'ポータル', '・', 'カテゴリ', '秀逸', 'ピックアップ', '\\u3000', '-', '\\u3000', '他', 'の', '秀逸', '記事', '/', 'つまみ', '読み', '/', '選考', '\\n', '新しい', '記事', '\\u3000', '-', '\\u3000', '投票', '/', '新着', '\\n', '新しい', '画像', '\\u3000', '-', '\\u3000', '投票', '/', '新着', '\\n', '今日', 'は', '何', 'の', '日', '\\u3000', '-', '\\u3000', 'こよみ', '\\u3000', '-', '\\u3000', '季節', 'の', '話題', '\\n', '季節', 'の', '画像', '\\u3000', '-', '\\u3000', '投票', 'ガイド', '\\n', '閲覧', '方法', '\\u3000', '-', '\\u3000', '参加', '方法', '\\u3000', '-', '\\u3000', '引用', '方法', '\\n', 'ヘルプ', '\\u3000', '-', '\\u3000', 'FAQ', '\\n', 'ウィキペディア', 'に', '関する', 'お', '問い合わせ', '先', '\\n', 'プレスルーム', 'お', '知ら', 'せ', '\\n', 'コミュニティ', '・', 'ポータル', '\\n', '井戸', '端', '\\u3000', '(', '告知', ')', '\\u3000', '-', '\\u3000', '井戸', '端', '\\n', '記事', 'と', 'は', '\\n', 'アクセス', '統計', '\\u3000', '-', '\\u3000', '日本', '語', '版', 'の', '統計', '\\n', 'For', '\\u3000', 'non', '-', 'Japanese', '-', 'speakers', '\\u3000', '-', '\\u3000', 'Main', '\\u3000', 'Page', '\\u3000', 'for', '\\u3000', 'Japanese', '-', 'learners', '方針', '\\n', '五', '本', 'の', '柱', '\\n', '著作', '権', 'の', '扱い', '\\n', '免責', '事項', 'ウィキメディア', '\\n', 'ウィキメディア', 'の', 'プロジェクト', '色々', 'な', 'メイン', 'ページ', '形式', '\\u3000', '-', '\\u3000', '携帯', '版', 'メイン', 'ページ']\n",
    "\n",
    "# Nagisa label\n",
    "['形容詞', '助詞', '補助記号', '名詞', '空白', '補助記号', '空白', '名詞', '名詞', '名詞', '名詞', '空白', '補助記号', '空白', '名詞', '接尾辞', '名詞', '名詞', '補助記号', '名詞', '名詞', '補助記号', '名詞', '補助記号', '名詞', '名詞', '名詞', '空白', '補助記号', '空白', '名詞', '助詞', '名詞', '名詞', '補助記号', '名詞', '名詞', '補助記号', '名詞', '補助記号', '形容詞', '名詞', '空白', '補助記号', '空白', '名詞', '補助記号', '名詞', '補助記号', '形容詞', '名詞', '空白', '補助記号', '空白', '名詞', '補助記号', '名詞', '補助記号', '名詞', '助詞', '代名詞', '助詞', '名詞', '空白', '補助記号', '空白', '名詞', '空白', '補助記号', '空白', '名詞', '助詞', '名詞', '補助記号', '名詞', '助詞', '名詞', '空白', '補助記号', '空白', '名詞', '名詞', '補助記号', '名詞', '名詞', '空白', '補助記号', '空白', '名詞', '名詞', '空白', '補助記号', '空白', '名詞', '名詞', '補助記号', '名詞', '空白', '補助記号', '空白', '名詞', '補助記号', '名詞', '助詞', '動詞', '接頭辞', '動詞', '名詞', '補助記号', '名詞', '接頭辞', '動詞', '助動詞', '補助記号', '名詞', '補助記号', '名詞', '補助記号', '名詞', '名詞', '空白', '補助記号', '名詞', '補助記号', '空白', '補助記号', '空白', '名詞', '名詞', '補助記号', '名詞', '助詞', '助詞', '記号', '名詞', '名詞', '空白', '補助記号', '空白', '名詞', '名詞', '名詞', '助詞', '名詞', '補助記号', '英単語', '空白', '英単語', '補助記号', '英単語', '補助記号', '英単語', '空白', '補助記号', '空白', '英単語', '空白', '英単語', '空白', '英単語', '空白', '英単語', '補助記号', '記号', '名詞', '記号', '名詞', '接尾辞', '助詞', '名詞', '補助記号', '名詞', '接尾辞', '助詞', '名詞', '補助記号', '名詞', '名詞', '名詞', '補助記号', '名詞', '助詞', '名詞', '形状詞', '助動詞', '名詞', '名詞', '名詞', '空白', '補助記号', '空白', '名詞', '名詞', '名詞', '名詞']\n",
    "\n",
    "# Label from this method\n",
    "[2, 0, 0, 0, 2, 0, 0, 0, 0, 0, 0, 0, 0, 0, 0, 0, 0, 0, 0, 0, 0, 0, 0, 0, 0, 0, 0, 0, 0, 0, 6, 9, 9, 4, 4, 4, 12, 1, 7, 7, 7, 5, 8, 0, 0, 0, 0, 0, 0, 0, 0, 0, 0, 0, 0, 0, 0, 0, 0, 0, 0, 0, 0, 0, 0, 0, 10, 3, 11, 0, 0, 0, 0, 0, 0, 0, 10, 3, 11, 0, 0, 0, 0, 0, 0, 0, 6, 6, 6, 8, 4, 4, 12, 1, 7, 7, 7, 5, 8, 0]"
   ]
  },
  {
   "cell_type": "code",
   "execution_count": null,
   "id": "dcb5f273",
   "metadata": {},
   "outputs": [],
   "source": []
  }
 ],
 "metadata": {
  "kernelspec": {
   "display_name": "Python 3 (ipykernel)",
   "language": "python",
   "name": "python3"
  },
  "language_info": {
   "codemirror_mode": {
    "name": "ipython",
    "version": 3
   },
   "file_extension": ".py",
   "mimetype": "text/x-python",
   "name": "python",
   "nbconvert_exporter": "python",
   "pygments_lexer": "ipython3",
   "version": "3.7.13"
  }
 },
 "nbformat": 4,
 "nbformat_minor": 5
}

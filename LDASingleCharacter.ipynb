{
 "cells": [
  {
   "cell_type": "markdown",
   "id": "331ac12e",
   "metadata": {},
   "source": [
    "# Perform LDA on the dataset using single character delimiters"
   ]
  },
  {
   "cell_type": "markdown",
   "id": "826313eb",
   "metadata": {},
   "source": [
    "## Imports"
   ]
  },
  {
   "cell_type": "code",
   "execution_count": 1,
   "id": "53508af4",
   "metadata": {},
   "outputs": [],
   "source": [
    "import numpy as np\n",
    "import pandas as pd\n",
    "import matplotlib\n",
    "import matplotlib.pyplot as plt\n",
    "from sklearn.feature_extraction.text import CountVectorizer\n",
    "from sklearn.decomposition import LatentDirichletAllocation\n",
    "import string"
   ]
  },
  {
   "cell_type": "markdown",
   "id": "f4a2906c",
   "metadata": {},
   "source": [
    "## Read in and process data"
   ]
  },
  {
   "cell_type": "code",
   "execution_count": 2,
   "id": "155e83d4",
   "metadata": {
    "scrolled": true
   },
   "outputs": [
    {
     "data": {
      "text/html": [
       "<div>\n",
       "<style scoped>\n",
       "    .dataframe tbody tr th:only-of-type {\n",
       "        vertical-align: middle;\n",
       "    }\n",
       "\n",
       "    .dataframe tbody tr th {\n",
       "        vertical-align: top;\n",
       "    }\n",
       "\n",
       "    .dataframe thead th {\n",
       "        text-align: right;\n",
       "    }\n",
       "</style>\n",
       "<table border=\"1\" class=\"dataframe\">\n",
       "  <thead>\n",
       "    <tr style=\"text-align: right;\">\n",
       "      <th></th>\n",
       "      <th>article</th>\n",
       "      <th>views</th>\n",
       "      <th>text</th>\n",
       "    </tr>\n",
       "  </thead>\n",
       "  <tbody>\n",
       "    <tr>\n",
       "      <th>0</th>\n",
       "      <td>メインページ</td>\n",
       "      <td>362562853</td>\n",
       "      <td>ようこそ\\nウィキペディア - ウィキペディア日本語版 - 百科事典目次\\n検索資料・ポータ...</td>\n",
       "    </tr>\n",
       "    <tr>\n",
       "      <th>1</th>\n",
       "      <td>星野源</td>\n",
       "      <td>10190763</td>\n",
       "      <td>星野 源（ほしの みなもと、1981年1月28日 - ）は、日本の音楽家、俳優、文筆家。埼玉...</td>\n",
       "    </tr>\n",
       "    <tr>\n",
       "      <th>2</th>\n",
       "      <td>真田信繁</td>\n",
       "      <td>9602104</td>\n",
       "      <td>真田 信繁（さなだ のぶしげ）は、安土桃山時代から江戸時代初期にかけての武将、大名。真田昌幸...</td>\n",
       "    </tr>\n",
       "    <tr>\n",
       "      <th>3</th>\n",
       "      <td>高橋一生</td>\n",
       "      <td>8571666</td>\n",
       "      <td>高橋 一生（たかはし いっせい、英字表記：Issey Takahashi、1980年12月9...</td>\n",
       "    </tr>\n",
       "    <tr>\n",
       "      <th>4</th>\n",
       "      <td>君の名は。</td>\n",
       "      <td>7788879</td>\n",
       "      <td>『君の名は。』（きみのなは、英: Your Name.）は、2016年に公開された新海誠監督...</td>\n",
       "    </tr>\n",
       "  </tbody>\n",
       "</table>\n",
       "</div>"
      ],
      "text/plain": [
       "  article      views                                               text\n",
       "0  メインページ  362562853  ようこそ\\nウィキペディア - ウィキペディア日本語版 - 百科事典目次\\n検索資料・ポータ...\n",
       "1     星野源   10190763  星野 源（ほしの みなもと、1981年1月28日 - ）は、日本の音楽家、俳優、文筆家。埼玉...\n",
       "2    真田信繁    9602104  真田 信繁（さなだ のぶしげ）は、安土桃山時代から江戸時代初期にかけての武将、大名。真田昌幸...\n",
       "3    高橋一生    8571666  高橋 一生（たかはし いっせい、英字表記：Issey Takahashi、1980年12月9...\n",
       "4   君の名は。    7788879  『君の名は。』（きみのなは、英: Your Name.）は、2016年に公開された新海誠監督..."
      ]
     },
     "execution_count": 2,
     "metadata": {},
     "output_type": "execute_result"
    }
   ],
   "source": [
    "wiki_df = pd.read_pickle('wiki') \n",
    "wiki_df.head()"
   ]
  },
  {
   "cell_type": "code",
   "execution_count": 4,
   "id": "1837db10",
   "metadata": {},
   "outputs": [],
   "source": [
    "stop = ['あそこ','あっ','あの','あのかた','あの人','あり','あります','ある','あれ','い','いう','います','いる','う','うち','え','お','および','おり','おります','か','かつて','から','が','き','ここ','こちら','こと','この','これ','これら','さ','さらに','し','しかし','する','ず','せ','せる','そこ','そして','その','その他','その後','それ','それぞれ','それで','た','ただし','たち','ため','たり','だ','だっ','だれ','つ','て','で','でき','できる','です','では','でも','と','という','といった','とき','ところ','として','とともに','とも','と共に','どこ','どの','な','ない','なお','なかっ','ながら','なく','なっ','など','なに','なら','なり','なる','なん','に','において','における','について','にて','によって','により','による','に対して','に対する','に関する','の','ので','のみ','は','ば','へ','ほか','ほとんど','ほど','ます','また','または','まで','も','もの','ものの','や','よう','より','ら','られ','られる','れ','れる','を','ん','何','及び','彼','彼女','我々','特に','私','私達','貴方','貴方方''ようこそ','ウィキペディア','ウィキペディア日本語版','百科事典目次','検索資料','空白','補助記号','）', '（', '、', '『', '』', '・','：', '／', '＋', '→', '「', '」', ' ', '-', '/', '\\\\']\n",
    "stop += list(string.printable)"
   ]
  },
  {
   "cell_type": "code",
   "execution_count": 5,
   "id": "9c8cf9cc",
   "metadata": {},
   "outputs": [],
   "source": [
    "data = np.array(wiki_df['text'])"
   ]
  },
  {
   "cell_type": "code",
   "execution_count": 7,
   "id": "a2b0bc17",
   "metadata": {},
   "outputs": [],
   "source": [
    "# Remove stop characters and split text using spaces\n",
    "new_data = []\n",
    "for cur_row in data:\n",
    "    string_append = \"\"\n",
    "    for cur_character in cur_row:\n",
    "        if cur_character not in stop:\n",
    "            string_append += cur_character + \" \"\n",
    "    string_append.strip()\n",
    "    new_data.append(string_append)"
   ]
  },
  {
   "cell_type": "markdown",
   "id": "88b643d7",
   "metadata": {},
   "source": [
    "## Vectorize and perform LDA"
   ]
  },
  {
   "cell_type": "code",
   "execution_count": 8,
   "id": "6cb0835f",
   "metadata": {},
   "outputs": [],
   "source": [
    "# Vectorize the data\n",
    "tf_vectorizer = CountVectorizer(stop_words=None, max_df=1, analyzer=\"char\")\n",
    "tf = tf_vectorizer.fit_transform(new_data)\n",
    "vocabulary = tf_vectorizer.vocabulary_"
   ]
  },
  {
   "cell_type": "code",
   "execution_count": 9,
   "id": "2147c433",
   "metadata": {},
   "outputs": [],
   "source": [
    "# Initialize LDA\n",
    "lda = LatentDirichletAllocation(n_components=15)"
   ]
  },
  {
   "cell_type": "code",
   "execution_count": 10,
   "id": "093b8084",
   "metadata": {},
   "outputs": [
    {
     "data": {
      "text/plain": [
       "LatentDirichletAllocation(n_components=15)"
      ]
     },
     "execution_count": 10,
     "metadata": {},
     "output_type": "execute_result"
    }
   ],
   "source": [
    "# Fit LDA model\n",
    "lda.fit(tf)"
   ]
  },
  {
   "cell_type": "code",
   "execution_count": 11,
   "id": "96069085",
   "metadata": {},
   "outputs": [
    {
     "name": "stdout",
     "output_type": "stream",
     "text": [
      "Topic #0: ['谜', '糄', '跆', '莅', '𥻨', '詑', '㆑', '挹', '鑰', '瀏']\n",
      "Topic #1: ['눈', '입', 'བ', 'འ', 'ྲ', '偷', '姸', '緲', '剑', '贞']\n",
      "Topic #2: ['瓠', 'ơ', '雒', 'མ', 'ོ', 'त', 'ầ', '槊', '奵', '絁']\n",
      "Topic #3: ['帙', '獸', '殂', '佯', '墉', '洮', '懶', '鵙', '膊', '沾']\n",
      "Topic #4: ['癋', '￡', '饋', '𓄤', '剗', 'ื', '懷', '瑄', '⁵', '腟']\n",
      "Topic #5: ['ㇷ', '゚', '砬', '僉', 'ㇿ', 'ㇱ', '睟', '藜', '轎', '르']\n",
      "Topic #6: ['蟜', '麃', '橑', '鶮', '鰒', '藺', '麑', 'ூ', 'ங', '❀']\n",
      "Topic #7: ['ㆍ', 'ް', 'ި', 'မ', '┴', '┐', '敕', 'ޖ', 'ާ', 'ހ']\n",
      "Topic #8: ['巛', '따', '👑', '앵', '켜', '𓏤', '吋', '┛', '凞', '겐']\n",
      "Topic #9: ['┌', '┤', '荽', 'ᠡ', 'ᠨ', '├', '셀', '领', '瑰', '玫']\n",
      "Topic #10: ['㋮', '⌊', '⌋', 'ং', 'ত', 'ল', 'প', 'ি', '沘', 'غ']\n",
      "Topic #11: ['鰲', '蝪', '禳', '銼', '짱', 'ᡠ', 'ᡥ', 'ᠣ', '鑲', '鯷']\n",
      "Topic #12: ['⟩', '昰', '禑', '烷', '埗', '历', '粵', '♨', '⊕', '泟']\n",
      "Topic #13: ['霾', '勸', '尘', '臛', '頞', '褓', '襁', '藾', '븐', '↵']\n",
      "Topic #14: ['粽', '翬', '♟', '巿', '탄', '단', '剄', 'ĭ', 'ῦ', '汴']\n"
     ]
    }
   ],
   "source": [
    "# Print the top 10 terms for each topic\n",
    "tf_feature_names = tf_vectorizer.get_feature_names_out()\n",
    "for topic_idx, topic in enumerate(lda.components_):\n",
    "    print(\"Topic #\" + str(topic_idx) + \": \" + \n",
    "          str(['{}'.format(tf_feature_names[i]) for i in topic.argsort()[:-10 - 1:-1]]))"
   ]
  },
  {
   "cell_type": "code",
   "execution_count": 12,
   "id": "684b66f4",
   "metadata": {},
   "outputs": [
    {
     "data": {
      "image/png": "[encoded data removed]",
      "text/plain": [
       "<Figure size 432x288 with 1 Axes>"
      ]
     },
     "metadata": {
      "needs_background": "light"
     },
     "output_type": "display_data"
    }
   ],
   "source": [
    "# Plot the topic distribution of document 10 - see that it's uniform across topics\n",
    "features = lda.transform(tf)\n",
    "plt.plot(pd.DataFrame(features).loc[10])\n",
    "plt.show()"
   ]
  },
  {
   "cell_type": "code",
   "execution_count": null,
   "id": "c20ddcea",
   "metadata": {},
   "outputs": [],
   "source": []
  },
  {
   "cell_type": "code",
   "execution_count": null,
   "id": "cc2d55ca",
   "metadata": {},
   "outputs": [],
   "source": []
  }
 ],
 "metadata": {
  "kernelspec": {
   "display_name": "Python 3 (ipykernel)",
   "language": "python",
   "name": "python3"
  },
  "language_info": {
   "codemirror_mode": {
    "name": "ipython",
    "version": 3
   },
   "file_extension": ".py",
   "mimetype": "text/x-python",
   "name": "python",
   "nbconvert_exporter": "python",
   "pygments_lexer": "ipython3",
   "version": "3.7.13"
  }
 },
 "nbformat": 4,
 "nbformat_minor": 5
}
